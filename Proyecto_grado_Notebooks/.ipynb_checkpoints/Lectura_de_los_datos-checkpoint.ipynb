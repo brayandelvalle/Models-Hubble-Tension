{
 "cells": [
  {
   "cell_type": "code",
   "execution_count": 1,
   "metadata": {},
   "outputs": [],
   "source": [
    "%matplotlib nbagg\n",
    "import numpy as np\n",
    "import scipy as sp\n",
    "import pandas as pd\n",
    "import matplotlib.pyplot as plt"
   ]
  },
  {
   "cell_type": "markdown",
   "metadata": {},
   "source": [
    "# Lectura de los datos"
   ]
  },
  {
   "cell_type": "code",
   "execution_count": 2,
   "metadata": {
    "scrolled": true
   },
   "outputs": [],
   "source": [
    "#Estos son los datos de la pagina http://supernova.lbl.gov/union/figures/SCPUnion2.1_mu_vs_z.txt\n",
    "Datsf = pd.read_csv('SCPUnion2.1_mu_vs_z.txt',sep=\"\\t\",names=[\"Name\", \"Redshift\", \"DistMod\", \"DistModErr\", \"LowMassGalProb\"], header=None)\n",
    "\n",
    "#Estos son los datos que estan en el doc de excel\n",
    "union_e = pd.read_excel('Union2.1_enea.xlsx')"
   ]
  },
  {
   "cell_type": "code",
   "execution_count": 3,
   "metadata": {},
   "outputs": [
    {
     "name": "stdout",
     "output_type": "stream",
     "text": [
      "Name: 1996h\n",
      "RedS: 0.62\n",
      "DMod: 43.2279620233\n",
      "EDmo: 0.39034466306599996\n",
      "Prob: 0.5516717932949999\n",
      "580 580 580 580 580\n"
     ]
    }
   ],
   "source": [
    "#Datos de SCP (online)\n",
    "idxNanFull = ~( np.isnan( np.array(Datsf.Redshift) ) | np.isnan( np.array(Datsf.DistMod) ) | np.isnan( np.array(Datsf.DistModErr) ) )\n",
    "\n",
    "Name_fullz = np.array(Datsf.Name)[idxNanFull]\n",
    "ReS_fullz  = np.array(Datsf.Redshift)[idxNanFull]\n",
    "DMod_fullz = np.array(Datsf.DistMod)[idxNanFull]\n",
    "EDmod_fullz= np.array(Datsf.DistModErr)[idxNanFull]\n",
    "LowMassProb_fullz = np.array(Datsf.LowMassGalProb)[idxNanFull]\n",
    "\n",
    "#Building a pandas DataFrame for sorting the data\n",
    "Data_to_sort_fullz = pd.DataFrame({'Name_fullz_':Name_fullz,\n",
    "                                   'ReS_fullz_':ReS_fullz,\n",
    "                                   'DMod_fullz_':DMod_fullz,\n",
    "                                   'EDmod_fullz_':EDmod_fullz,\n",
    "                                   'LoWMassProb_fullz_':LowMassProb_fullz\n",
    "                                  })\n",
    "\n",
    "#Sorting\n",
    "Data_sorted_fullz = Data_to_sort_fullz.sort_values(by='ReS_fullz_')\n",
    "\n",
    "Name_fullz = np.array(Data_sorted_fullz.Name_fullz_)\n",
    "ReS_fullz  = np.array(Data_sorted_fullz.ReS_fullz_)\n",
    "DMod_fullz = np.array(Data_sorted_fullz.DMod_fullz_)\n",
    "EDmod_fullz= np.array(Data_sorted_fullz.EDmod_fullz_)\n",
    "LowMassProb_fullz = np.array(Data_sorted_fullz.LoWMassProb_fullz_)\n",
    "\n",
    "#Saving\n",
    "np.save('Name_fullz',Name_fullz)\n",
    "np.save('ReS_fullz',ReS_fullz)\n",
    "np.save('DMod_fullz',DMod_fullz)\n",
    "np.save('EDmod_fullz',EDmod_fullz)\n",
    "np.save('Low,assProb_fullz', LowMassProb_fullz)\n",
    "\n",
    "num2 = 465\n",
    "print('Name:',Name_fullz[num2])\n",
    "print('RedS:',ReS_fullz[num2])\n",
    "print('DMod:',DMod_fullz[num2])\n",
    "print('EDmo:',EDmod_fullz[num2])\n",
    "print('Prob:',LowMassProb_fullz[num2])\n",
    "print(len(Name_fullz), len(ReS_fullz),len(DMod_fullz),len(EDmod_fullz),len(LowMassProb_fullz))"
   ]
  },
  {
   "cell_type": "code",
   "execution_count": 4,
   "metadata": {},
   "outputs": [
    {
     "name": "stdout",
     "output_type": "stream",
     "text": [
      "Name: 1995bd\n",
      "EDmo: 0.24\n",
      "RedS: 0.0144\n",
      "DMod: 33.8\n",
      "RAC: 71.3385 DEC: 11.06736\n",
      "288 288 288 288 288\n"
     ]
    }
   ],
   "source": [
    "#Datos de excel\n",
    "\n",
    "#Delating the nan values\n",
    "idxNanproof = ~( np.isnan( np.array(union_e.z_SN_Union) ) | np.isnan( np.array(union_e.RA) ) | np.isnan( np.array(union_e.DEC) ) )\n",
    "\n",
    "Name_proof = np.array(union_e.Name_SN)[idxNanproof]\n",
    "EDmod_proof= np.array(union_e.Error_SN)[idxNanproof]\n",
    "De_proof   = np.array(union_e.DEC)[idxNanproof]\n",
    "RA_proof   = np.array(union_e.RA)[idxNanproof]\n",
    "ReS_proof  = np.array(union_e.z_SN_Union)[idxNanproof]\n",
    "DMod_proof = np.array(union_e.Mod_Dist_SN_Union21)[idxNanproof]\n",
    "\n",
    "#Building a pandas DataFrame for sorting the data\n",
    "Data_to_sort = pd.DataFrame({'Name_proof_':Name_proof,\n",
    "                             'EDmod_proof_':EDmod_proof,\n",
    "                             'De_proof_':De_proof,\n",
    "                             'RA_proof_':RA_proof,\n",
    "                             'ReS_proof_':ReS_proof,\n",
    "                             'DMod_proof_':DMod_proof\n",
    "                             })\n",
    "\n",
    "#sorting\n",
    "Data_sorted = Data_to_sort.sort_values(by='ReS_proof_')\n",
    "\n",
    "Name_proof = np.array(Data_sorted.Name_proof_)\n",
    "EDmod_proof= np.array(Data_sorted.EDmod_proof_)\n",
    "De_proof   = np.array(Data_sorted.De_proof_)\n",
    "RA_proof   = np.array(Data_sorted.RA_proof_)\n",
    "ReS_proof  = np.array(Data_sorted.ReS_proof_)\n",
    "DMod_proof = np.array(Data_sorted.DMod_proof_)\n",
    "\n",
    "#Saving\n",
    "np.save('RAC_ult',RA_proof)\n",
    "np.save('DEC_ult',De_proof)\n",
    "np.save('Name_ult',Name_proof)\n",
    "np.save('Dmod_ult',DMod_proof)\n",
    "np.save('DmoE_ult',EDmod_proof)\n",
    "np.save('RedZ_ult',ReS_proof)\n",
    "\n",
    "num = 50\n",
    "print('Name:',Name_proof[num])\n",
    "print('EDmo:',EDmod_proof[num])\n",
    "print('RedS:',ReS_proof[num])\n",
    "print('DMod:',DMod_proof[num])\n",
    "print('RAC:',RA_proof[num],'DEC:',De_proof[num])\n",
    "print(len(Name_proof),len(EDmod_proof),len(De_proof),len(ReS_proof),len(DMod_proof))"
   ]
  },
  {
   "cell_type": "code",
   "execution_count": 40,
   "metadata": {
    "scrolled": false
   },
   "outputs": [
    {
     "data": {
      "text/html": [
       "<div>\n",
       "<style scoped>\n",
       "    .dataframe tbody tr th:only-of-type {\n",
       "        vertical-align: middle;\n",
       "    }\n",
       "\n",
       "    .dataframe tbody tr th {\n",
       "        vertical-align: top;\n",
       "    }\n",
       "\n",
       "    .dataframe thead th {\n",
       "        text-align: right;\n",
       "    }\n",
       "</style>\n",
       "<table border=\"1\" class=\"dataframe\">\n",
       "  <thead>\n",
       "    <tr style=\"text-align: right;\">\n",
       "      <th></th>\n",
       "      <th>column2</th>\n",
       "      <th>column1</th>\n",
       "    </tr>\n",
       "  </thead>\n",
       "  <tbody>\n",
       "    <tr>\n",
       "      <th>a</th>\n",
       "      <td>0.356140</td>\n",
       "      <td>0.834823</td>\n",
       "    </tr>\n",
       "    <tr>\n",
       "      <th>b</th>\n",
       "      <td>0.462248</td>\n",
       "      <td>0.926574</td>\n",
       "    </tr>\n",
       "    <tr>\n",
       "      <th>c</th>\n",
       "      <td>0.776735</td>\n",
       "      <td>0.041815</td>\n",
       "    </tr>\n",
       "  </tbody>\n",
       "</table>\n",
       "</div>"
      ],
      "text/plain": [
       "    column2   column1\n",
       "a  0.356140  0.834823\n",
       "b  0.462248  0.926574\n",
       "c  0.776735  0.041815"
      ]
     },
     "execution_count": 40,
     "metadata": {},
     "output_type": "execute_result"
    }
   ],
   "source": [
    "Data_proof = pd.DataFrame(data={'column2':np.random.rand(3), 'column1':np.random.rand(3)}, index=['a','b','c'])\n",
    "Data_proof"
   ]
  },
  {
   "cell_type": "code",
   "execution_count": 37,
   "metadata": {},
   "outputs": [
    {
     "data": {
      "text/plain": [
       "'\\\\begin{tabular}{lrr}\\n\\\\toprule\\n{} &   column2 &   column1 \\\\\\\\\\n\\\\midrule\\na &  0.376005 &  0.933816 \\\\\\\\\\nb &  0.506847 &  0.052396 \\\\\\\\\\nc &  0.802400 &  0.308370 \\\\\\\\\\n\\\\bottomrule\\n\\\\end{tabular}\\n'"
      ]
     },
     "execution_count": 37,
     "metadata": {},
     "output_type": "execute_result"
    }
   ],
   "source": [
    "Data_proof.to_latex()"
   ]
  },
  {
   "cell_type": "code",
   "execution_count": 58,
   "metadata": {},
   "outputs": [
    {
     "ename": "TypeError",
     "evalue": "__init__() got an unexpected keyword argument 'style'",
     "output_type": "error",
     "traceback": [
      "\u001b[0;31m---------------------------------------------------------------------------\u001b[0m",
      "\u001b[0;31mTypeError\u001b[0m                                 Traceback (most recent call last)",
      "\u001b[0;32m<ipython-input-58-56e7208f6a6c>\u001b[0m in \u001b[0;36m<module>\u001b[0;34m()\u001b[0m\n\u001b[0;32m----> 1\u001b[0;31m \u001b[0mfig\u001b[0m\u001b[0;34m,\u001b[0m \u001b[0max\u001b[0m \u001b[0;34m=\u001b[0m \u001b[0mplt\u001b[0m\u001b[0;34m.\u001b[0m\u001b[0msubplots\u001b[0m\u001b[0;34m(\u001b[0m\u001b[0mnrows\u001b[0m\u001b[0;34m=\u001b[0m\u001b[0;36m1\u001b[0m\u001b[0;34m,\u001b[0m \u001b[0mncols\u001b[0m\u001b[0;34m=\u001b[0m\u001b[0;36m1\u001b[0m\u001b[0;34m,\u001b[0m \u001b[0mfigsize\u001b[0m\u001b[0;34m=\u001b[0m\u001b[0;34m(\u001b[0m\u001b[0;36m5\u001b[0m\u001b[0;34m,\u001b[0m\u001b[0;36m5\u001b[0m\u001b[0;34m)\u001b[0m\u001b[0;34m,\u001b[0m\u001b[0mstyle\u001b[0m\u001b[0;34m=\u001b[0m\u001b[0;34m'classic'\u001b[0m\u001b[0;34m)\u001b[0m\u001b[0;34m\u001b[0m\u001b[0m\n\u001b[0m\u001b[1;32m      2\u001b[0m \u001b[0max\u001b[0m\u001b[0;34m.\u001b[0m\u001b[0merrorbar\u001b[0m\u001b[0;34m(\u001b[0m\u001b[0;36m10\u001b[0m\u001b[0;34m*\u001b[0m\u001b[0mnp\u001b[0m\u001b[0;34m.\u001b[0m\u001b[0mrandom\u001b[0m\u001b[0;34m.\u001b[0m\u001b[0mrand\u001b[0m\u001b[0;34m(\u001b[0m\u001b[0;36m10\u001b[0m\u001b[0;34m)\u001b[0m\u001b[0;34m,\u001b[0m \u001b[0;36m10\u001b[0m\u001b[0;34m*\u001b[0m\u001b[0mnp\u001b[0m\u001b[0;34m.\u001b[0m\u001b[0mrandom\u001b[0m\u001b[0;34m.\u001b[0m\u001b[0mrand\u001b[0m\u001b[0;34m(\u001b[0m\u001b[0;36m10\u001b[0m\u001b[0;34m)\u001b[0m\u001b[0;34m,\u001b[0m \u001b[0mfmt\u001b[0m\u001b[0;34m=\u001b[0m\u001b[0;34m'r.'\u001b[0m\u001b[0;34m,\u001b[0m \u001b[0myerr\u001b[0m\u001b[0;34m=\u001b[0m\u001b[0mnp\u001b[0m\u001b[0;34m.\u001b[0m\u001b[0mrandom\u001b[0m\u001b[0;34m.\u001b[0m\u001b[0mrand\u001b[0m\u001b[0;34m(\u001b[0m\u001b[0;36m10\u001b[0m\u001b[0;34m)\u001b[0m\u001b[0;34m)\u001b[0m\u001b[0;34m\u001b[0m\u001b[0m\n",
      "\u001b[0;32m~/anaconda3/lib/python3.6/site-packages/matplotlib/pyplot.py\u001b[0m in \u001b[0;36msubplots\u001b[0;34m(nrows, ncols, sharex, sharey, squeeze, subplot_kw, gridspec_kw, **fig_kw)\u001b[0m\n\u001b[1;32m   1196\u001b[0m     \u001b[0msubplot\u001b[0m\u001b[0;34m\u001b[0m\u001b[0m\n\u001b[1;32m   1197\u001b[0m     \"\"\"\n\u001b[0;32m-> 1198\u001b[0;31m     \u001b[0mfig\u001b[0m \u001b[0;34m=\u001b[0m \u001b[0mfigure\u001b[0m\u001b[0;34m(\u001b[0m\u001b[0;34m**\u001b[0m\u001b[0mfig_kw\u001b[0m\u001b[0;34m)\u001b[0m\u001b[0;34m\u001b[0m\u001b[0m\n\u001b[0m\u001b[1;32m   1199\u001b[0m     axs = fig.subplots(nrows=nrows, ncols=ncols, sharex=sharex, sharey=sharey,\n\u001b[1;32m   1200\u001b[0m                        \u001b[0msqueeze\u001b[0m\u001b[0;34m=\u001b[0m\u001b[0msqueeze\u001b[0m\u001b[0;34m,\u001b[0m \u001b[0msubplot_kw\u001b[0m\u001b[0;34m=\u001b[0m\u001b[0msubplot_kw\u001b[0m\u001b[0;34m,\u001b[0m\u001b[0;34m\u001b[0m\u001b[0m\n",
      "\u001b[0;32m~/anaconda3/lib/python3.6/site-packages/matplotlib/pyplot.py\u001b[0m in \u001b[0;36mfigure\u001b[0;34m(num, figsize, dpi, facecolor, edgecolor, frameon, FigureClass, clear, **kwargs)\u001b[0m\n\u001b[1;32m    546\u001b[0m                                         \u001b[0mframeon\u001b[0m\u001b[0;34m=\u001b[0m\u001b[0mframeon\u001b[0m\u001b[0;34m,\u001b[0m\u001b[0;34m\u001b[0m\u001b[0m\n\u001b[1;32m    547\u001b[0m                                         \u001b[0mFigureClass\u001b[0m\u001b[0;34m=\u001b[0m\u001b[0mFigureClass\u001b[0m\u001b[0;34m,\u001b[0m\u001b[0;34m\u001b[0m\u001b[0m\n\u001b[0;32m--> 548\u001b[0;31m                                         **kwargs)\n\u001b[0m\u001b[1;32m    549\u001b[0m \u001b[0;34m\u001b[0m\u001b[0m\n\u001b[1;32m    550\u001b[0m         \u001b[0;32mif\u001b[0m \u001b[0mfigLabel\u001b[0m\u001b[0;34m:\u001b[0m\u001b[0;34m\u001b[0m\u001b[0m\n",
      "\u001b[0;32m~/anaconda3/lib/python3.6/site-packages/matplotlib/backend_bases.py\u001b[0m in \u001b[0;36mnew_figure_manager\u001b[0;34m(cls, num, *args, **kwargs)\u001b[0m\n\u001b[1;32m    158\u001b[0m         \u001b[0;32mfrom\u001b[0m \u001b[0mmatplotlib\u001b[0m\u001b[0;34m.\u001b[0m\u001b[0mfigure\u001b[0m \u001b[0;32mimport\u001b[0m \u001b[0mFigure\u001b[0m\u001b[0;34m\u001b[0m\u001b[0m\n\u001b[1;32m    159\u001b[0m         \u001b[0mfig_cls\u001b[0m \u001b[0;34m=\u001b[0m \u001b[0mkwargs\u001b[0m\u001b[0;34m.\u001b[0m\u001b[0mpop\u001b[0m\u001b[0;34m(\u001b[0m\u001b[0;34m'FigureClass'\u001b[0m\u001b[0;34m,\u001b[0m \u001b[0mFigure\u001b[0m\u001b[0;34m)\u001b[0m\u001b[0;34m\u001b[0m\u001b[0m\n\u001b[0;32m--> 160\u001b[0;31m         \u001b[0mfig\u001b[0m \u001b[0;34m=\u001b[0m \u001b[0mfig_cls\u001b[0m\u001b[0;34m(\u001b[0m\u001b[0;34m*\u001b[0m\u001b[0margs\u001b[0m\u001b[0;34m,\u001b[0m \u001b[0;34m**\u001b[0m\u001b[0mkwargs\u001b[0m\u001b[0;34m)\u001b[0m\u001b[0;34m\u001b[0m\u001b[0m\n\u001b[0m\u001b[1;32m    161\u001b[0m         \u001b[0;32mreturn\u001b[0m \u001b[0mcls\u001b[0m\u001b[0;34m.\u001b[0m\u001b[0mnew_figure_manager_given_figure\u001b[0m\u001b[0;34m(\u001b[0m\u001b[0mnum\u001b[0m\u001b[0;34m,\u001b[0m \u001b[0mfig\u001b[0m\u001b[0;34m)\u001b[0m\u001b[0;34m\u001b[0m\u001b[0m\n\u001b[1;32m    162\u001b[0m \u001b[0;34m\u001b[0m\u001b[0m\n",
      "\u001b[0;31mTypeError\u001b[0m: __init__() got an unexpected keyword argument 'style'"
     ]
    }
   ],
   "source": [
    "fig, ax = plt.subplots(nrows=1, ncols=1, figsize=(5,5), style='classic')\n",
    "ax.errorbar(10*np.random.rand(10), 10*np.random.rand(10), fmt='r.', yerr=np.random.rand(10))"
   ]
  },
  {
   "cell_type": "code",
   "execution_count": 54,
   "metadata": {},
   "outputs": [
    {
     "ename": "TypeError",
     "evalue": "'module' object is not callable",
     "output_type": "error",
     "traceback": [
      "\u001b[0;31m---------------------------------------------------------------------------\u001b[0m",
      "\u001b[0;31mTypeError\u001b[0m                                 Traceback (most recent call last)",
      "\u001b[0;32m<ipython-input-54-c3b10131e921>\u001b[0m in \u001b[0;36m<module>\u001b[0;34m()\u001b[0m\n\u001b[0;32m----> 1\u001b[0;31m \u001b[0mhelp\u001b[0m\u001b[0;34m(\u001b[0m\u001b[0mplt\u001b[0m\u001b[0;34m.\u001b[0m\u001b[0mstyle\u001b[0m\u001b[0;34m(\u001b[0m\u001b[0;34m)\u001b[0m\u001b[0;34m)\u001b[0m\u001b[0;34m\u001b[0m\u001b[0m\n\u001b[0m",
      "\u001b[0;31mTypeError\u001b[0m: 'module' object is not callable"
     ]
    }
   ],
   "source": [
    "help(plt.style())"
   ]
  },
  {
   "cell_type": "code",
   "execution_count": null,
   "metadata": {},
   "outputs": [],
   "source": []
  }
 ],
 "metadata": {
  "kernelspec": {
   "display_name": "Python 3",
   "language": "python",
   "name": "python3"
  },
  "language_info": {
   "codemirror_mode": {
    "name": "ipython",
    "version": 3
   },
   "file_extension": ".py",
   "mimetype": "text/x-python",
   "name": "python",
   "nbconvert_exporter": "python",
   "pygments_lexer": "ipython3",
   "version": "3.6.5"
  }
 },
 "nbformat": 4,
 "nbformat_minor": 2
}
