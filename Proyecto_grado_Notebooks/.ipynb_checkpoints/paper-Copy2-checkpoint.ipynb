{
 "cells": [
  {
   "cell_type": "code",
   "execution_count": 1,
   "metadata": {},
   "outputs": [],
   "source": [
    "#%matplotlib nbagg\n",
    "import numpy as np\n",
    "import pandas as pd \n",
    "import scipy as sp\n",
    "from progressbar import ProgressBar\n",
    "\n",
    "from scipy import linalg as lg\n",
    "from scipy import integrate\n",
    "from scipy import stats\n",
    "from scipy.optimize import curve_fit\n",
    "from scipy.spatial import distance\n",
    "\n",
    "from astropy import units as u\n",
    "from astropy.coordinates import SkyCoord\n",
    "\n",
    "import iminuit\n",
    "from iminuit import Minuit, describe, Struct\n",
    "\n",
    "import sys\n",
    "import matplotlib.pyplot as plt \n",
    "from mpl_toolkits.mplot3d import Axes3D\n",
    "from mpl_toolkits.mplot3d.axes3d import Axes3D, get_test_data\n",
    "from matplotlib import cm\n",
    "plt.style.use('classic') "
   ]
  },
  {
   "cell_type": "markdown",
   "metadata": {},
   "source": [
    "# Constants and unities: time (s), dist(Km)"
   ]
  },
  {
   "cell_type": "code",
   "execution_count": 2,
   "metadata": {},
   "outputs": [
    {
     "name": "stdout",
     "output_type": "stream",
     "text": [
      "The age of the Universe is 14538.91606601818 Millions of years\n"
     ]
    }
   ],
   "source": [
    "#Todo se transforma a Km y seg\n",
    "Km = 1.0\n",
    "seg= 1.0\n",
    "pc = 3.0857e13*Km\n",
    "Mpc= 1e6*pc \n",
    "\n",
    "h  = 0.673                           #h del parámetro de Hubble (Plank) H0=100*h\n",
    "H0 = 100*h*Km/(seg*Mpc)              #Parámetro de Hubble \n",
    "H0_Union = 70*Km/(seg*Mpc)           #Parámetro de Hubble (Union2.1)\n",
    "Ok = 0.0                             #Omega de k, se asume universo plano\n",
    "Om = 0.3089                          #Omega de la materia\n",
    "Ol = 1.0 - Om - Ok                   #Omega de la cte cosmologica\n",
    "f  = Om**0.55                        #growth factor\n",
    "\n",
    "C  = 299792458e-3*Km/seg             #Velocidad de la luz Km/seg\n",
    "ly = 9.461e12*Km                     #Año luz\n",
    "conv = np.pi/180.0                   #Para convertir de grados a radianes\n",
    "\n",
    "print('The age of the Universe is',H0**(-1)/(3600*24*365.0)*1e-6, 'Millions of years')"
   ]
  },
  {
   "cell_type": "markdown",
   "metadata": {},
   "source": [
    "# Distances in cosmology "
   ]
  },
  {
   "cell_type": "code",
   "execution_count": 3,
   "metadata": {},
   "outputs": [],
   "source": [
    "#Distancia comovil\n",
    "def Dist_com(z):\n",
    "    #H(z) de las ecuaciones de Friedmann\n",
    "    #Hubble = H0*( Om*(1.0 + z)**3.0 + Ok*(1.0 + z)**2.0 + Ol )**0.5\n",
    "    \n",
    "    #dist comovil\n",
    "    dist_com = C*sp.integrate.quad(lambda z:1.0/( (Om*(1.0 + z)**3.0 + Ok*(1.0 + z)**2.0 + Ol)**0.5 ),0.0,z)[0]/H0\n",
    "    #dist_com = C*sp.integrate.quad(lambda z:1.0/Hubble,0.0,z)[0]\n",
    "\n",
    "    return dist_com\n",
    "\n",
    "#Diameter angular distance (or physical distance) \n",
    "def Dist_ang(z):\n",
    "    #Factor de escala\n",
    "    a = 1.0/(1.0 + z)\n",
    "    \n",
    "    #Distancia de luminosidad\n",
    "    dist_ang = Dist_com(z)*a\n",
    "    \n",
    "    return dist_ang\n",
    "\n",
    "#Distancia de luminosidad D_l con el redshift\n",
    "def Dist_lz(z):\n",
    "    #Factor de escala\n",
    "    a = 1.0/(1.0 + z)\n",
    "    \n",
    "    #Distancia de luminosidad\n",
    "    dist_lum = Dist_com(z)/a\n",
    "\n",
    "    return dist_lum\n",
    "\n",
    "#Distancia usando el modulo de la distancia, se convierte de pc a km.\n",
    "#Esta distancia corresponde a la distancia de luminosidad D_l\n",
    "def Dist_lm(mu):\n",
    "    dist_lum = 10**(mu/5.0 + 1.0)\n",
    "    return dist_lum*pc\n",
    "\n",
    "\n",
    "#H(z):\n",
    "def HubbleE(z):\n",
    "    Hubble_ = H0*( Om*(1.0 + z)**3.0 + Ok*(1.0 + z)**2.0 + Ol )**0.5\n",
    "    return Hubble_"
   ]
  },
  {
   "cell_type": "markdown",
   "metadata": {},
   "source": [
    "# Radial velocities(peculiar), the Hubble flow and the averaged density contrast."
   ]
  },
  {
   "cell_type": "code",
   "execution_count": 4,
   "metadata": {},
   "outputs": [],
   "source": [
    "#Calculo de la componente de la velocidad visible a nosotros\n",
    "#Hubble Trouble or Hubble bubble\n",
    "#Dl es el valor teorico calculado con dist mod, Dl_ el calculado con z.\n",
    "def vel(Dl, Dl_, z):\n",
    "    return -C*np.array(z)*( np.array(Dl)/np.array(Dl_) - 1.0)\n",
    "\n",
    "#the same function as \"vel\" but without z/(1-z) = z approximation.\n",
    "def vel_pres(Dl, Dl_, z):\n",
    "    return -( np.array(Dl)/np.array(Dl_) - 1.0)*( np.array(z)/(1.0 - np.array(z)) )*C\n",
    "\n",
    "\n",
    "#The Hubble flow\n",
    "def Vel_Hubble_flow(z):\n",
    "    #H_z = H0*( Om*(1.0 + z)**3.0 + Ok*(1.0 + z)**2.0 + Ol )**0.5\n",
    "    return H0*Dist_ang(z)\n",
    "\n",
    "#The averaged density contrast (ec 6)\n",
    "def Density_contrast_Av1(v_X, z):\n",
    "    #Comovil distance and scale factor\n",
    "    X = np.array([Dist_com(i) for i in z])\n",
    "    a = 1.0/(1.0 + z)\n",
    "    \n",
    "    #Density contrast\n",
    "    cont_dens =-(3.0/f) * v_X * (1.0/(a*H0*X))\n",
    "    return cont_dens\n",
    "\n",
    "#The averaged density contrast (ec 18 )\n",
    "def Density_contrast_Av2(Dl, Dl_, z):\n",
    "    #Growth factor, comovil distance, scale factor and Hubble(z)\n",
    "    f = Om**0.55\n",
    "    X = np.array([Dist_com(i) for i in z])\n",
    "    a = 1.0/(1.0 + z)\n",
    "    H = HubbleE(z)\n",
    "    \n",
    "    #Density contrast\n",
    "    cont_dens = (3.0/f) * (1.0 - np.array(Dl)/np.array(Dl_)) * (1.0/(a*H*X/C - 1.0) )\n",
    "\n",
    "    return cont_dens\n",
    "\n",
    "#The averaged density contrast (ec 18 ), the same as the one above but written as a function of V_r\n",
    "def Density_contrast_Av3(V_r, z):\n",
    "    V_r = np.array(V_r)\n",
    "    z = np.array(z)\n",
    "    \n",
    "    #Growth factor, comovil distance, scale factor and Hubble(z)\n",
    "    f = Om**0.55\n",
    "    X = np.array([Dist_com(i) for i in z])\n",
    "    a = 1.0/(1.0 + z)\n",
    "    H = HubbleE(z)\n",
    "    \n",
    "    #Density contrast\n",
    "    cont_dens = (3.0/f) * (V_r/(z*C)) * (1.0/(a*H*X/C - 1.0))\n",
    "\n",
    "    return cont_dens\n",
    "\n",
    "#This is the density contrast (ec 19)\n",
    "#If Comovil_Dist is an array/list then it contains the comovil distances\n",
    "#If it is a float then it is the \"h\" in f'(x) = [f(x_i + h)-f(x_i)]/h -> h=x_(i+1)-x_i\n",
    "#CDens_Average is the density contrast average\n",
    "def Density_contrast(CDens_Average, RedShift, Comovil_Dist, h):\n",
    "    \n",
    "    deltaA_ = np.array(CDens_Average)\n",
    "    z = np.array(RedShift)\n",
    "    X = np.array(Comovil_Dist)\n",
    "    \n",
    "    #deltas for the derivatives\n",
    "    D_X = h  \n",
    "    D_deltaA = np.diff(deltaA_)\n",
    "    D_z = np.diff(z)\n",
    "    \n",
    "    #Computing the density contrast\n",
    "    dens_cont = np.zeros_like(z)\n",
    "    dens_cont[0:-1] = deltaA_[0:-1] + X[0:-1]*(D_deltaA/D_X)/3.0\n",
    "    dens_cont[-1] = deltaA_[-1] + X[-1]*(deltaA_[-1]-deltaA_[-2]) / (3.0*D_X)\n",
    "    \n",
    "    return dens_cont\n",
    "\n",
    "#Vrs is the radial component of the peculiar velocities\n",
    "#Zs is the redshift\n",
    "#X_ is the comovil distance\n",
    "def Density_contrast_(Vrs, Zs, X_):\n",
    "    Vrs = np.array(Vrs)\n",
    "    Zs = np.array(Zs)\n",
    "    X_ = np.array(X_)\n",
    "\n",
    "    a = 1/(1+Zs)\n",
    "    #The density contrast averaged\n",
    "    #This conditional is a way to determine if the velocities are in C unities or not\n",
    "\n",
    "    delta_bar = (3.0/Om**0.55)*(Vrs/C)*(1.0/Zs)*(1/(a*HubbleE(Zs)*X_ - 1.0))\n",
    "    \n",
    "    #The density contrast\n",
    "    dens_cont = list()\n",
    "    for i in range(len(Vrs)-1):\n",
    "        #This is the derivative times X_\n",
    "        pert_delt_i = X_[i]*(delta_bar[i+1]-delta_bar[i])/(X_[i+1]-X_[i])/3.0\n",
    "        #The density contrast is the averaged value plus a perturbative term\n",
    "        dens_cont.append(delta_bar[i] + pert_delt_i)\n",
    "    \n",
    "    return np.array(dens_cont)"
   ]
  },
  {
   "cell_type": "markdown",
   "metadata": {},
   "source": [
    "# Statistics"
   ]
  },
  {
   "cell_type": "code",
   "execution_count": 5,
   "metadata": {},
   "outputs": [],
   "source": [
    "#Error in the distance computed using de distance modulus.\n",
    "def Err_dist_mod(Dis_, Err_):\n",
    "    error_ = np.log(10.0)*np.array(Dis_)*np.array(Err_)/5.0           #Valor de error en la distancia\n",
    "    error_porc = 100*np.array(error_)/np.array(Dis_)                  #Valor porcentual del error\n",
    "    return [error_,error_porc]\n",
    "\n",
    "#Weighted average\n",
    "#This formula is derived from the Likelihood method for a data where each x_i follows a\n",
    "#gaussian destribution with a different error (standar deviation) for each x_i\n",
    "def Weighted_mean(data, Errs):\n",
    "    data = np.array(data)\n",
    "    Errs = np.array(Errs)\n",
    "    \n",
    "    weighted_mean = np.sum(data/Errs**2.0)/np.sum(Errs**(-2.0))\n",
    "    return weighted_mean\n",
    "\n",
    "#Weighted standar deviation\n",
    "#This formula is derived from the Likelihood method for a data where each x_i follows a\n",
    "#gaussian destribution with a different error (standar deviation) for each x_i\n",
    "#I guess this formula is good for large values of n (number of elements to average)\n",
    "def Weighted_std(Errs):\n",
    "    Errs = np.array(Errs)\n",
    "    \n",
    "    weighted_var = 1.0/np.sum(1.0/Errs**2.0)\n",
    "    return np.sqrt(weighted_var)\n",
    "\n",
    "#The weighted Pearson correlation coeficient\n",
    "#x_data is the x-axis data\n",
    "#y_data is the y-axis data\n",
    "#x_w are the weights in the x-axis data\n",
    "#y_w are the weights in the y-axis data\n",
    "def Weighted_Pearson_correlation(x_data, y_data, x_w, y_w):\n",
    "    x_data = np.array(x_data)\n",
    "    y_data = np.array(y_data)\n",
    "    x_w = np.array(x_w)\n",
    "    y_w = np.array(y_w)\n",
    "    \n",
    "    #Calculating the weighted means\n",
    "    mu_wx = np.sum(x_w*x_data)/np.sum(x_w)\n",
    "    mu_wy = np.sum(y_w*y_data)/np.sum(y_w)\n",
    "    \n",
    "    #Calculating the weighted variances\n",
    "    s_wx = np.sum( x_w*(x_data - mu_wx)**2 )/np.sum(x_w)\n",
    "    s_wy = np.sum( y_w*(y_data - mu_wy)**2 )/np.sum(y_w)\n",
    "    \n",
    "    #Calculating the weighted covariance\n",
    "    s_wxy = np.sum( x_w*(x_data - mu_wx)*(y_data - mu_wy) )/np.sum(x_w)\n",
    "    \n",
    "    #Calculating the weighted Pearson correlation\n",
    "    PW_xy = s_wxy/np.sqrt(s_wx*s_wy)\n",
    "    \n",
    "    return PW_xy\n",
    "\n",
    "#Error in the radial velocitie (model)\n",
    "#z is the redshift\n",
    "#modD is the distance modulus and modDE is its error.\n",
    "def Error_Vr(z, modD, modDE ):\n",
    "    z = np.array(z)\n",
    "    modD = np.array(modD)\n",
    "    modDE = np.array(modDE)\n",
    "    \n",
    "    Err_dist_mu = Err_dist_mod(Dis_= Dist_lm(mu=modD), Err_=modDE)\n",
    "    dz = np.array([Dist_lz(i) for i in z])\n",
    "    return np.absolute(C*z*Err_dist_mu[0]/dz)\n",
    "\n",
    "#z is the redshift from the GW\n",
    "#D_ is the luminosity distance from GW using z (homogenious universe)\n",
    "#eD is the error in the luminosity distance from GW\n",
    "def Error_GWVr(z, D_,eD):\n",
    "    err = np.array([ np.absolute( C*z[i]*eD[i]/D_[i] ) for i in range(len(z))])\n",
    "    return err\n",
    "    \n",
    "#Chi² for a lineal model ax+b.\n",
    "#data_x and data_y are the data in the x and y axis.\n",
    "#a0 and b0 are initial guess for the parameters a and b.\n",
    "#limits are the ranges in which a and b will be found, if no list is passed \n",
    "#the limits will be assumed to be (-1,1) for each parameter. The list has\n",
    "#the structure limits=[(inf_a, sup_a),(inf_b,sup_b)].\n",
    "#error_x and error_y are the errors in each of the axis x and y. If there's not errors\n",
    "#then the minimization will be done without weights. \n",
    "def chi2_lineal_minuit(data_x, data_y, a0, b0, error_x=False, error_y=False, limits=False, print_level=0, minos=False):\n",
    "    ##################################################################\n",
    "    ##################################################################\n",
    "    #Assigning errors as weights for the chi2_func function\n",
    "    #this set of \"if's\" conditionals is to make sure that there's\n",
    "    #always a weight for the chi2_func function    \n",
    "    if type(error_x)==bool or type(error_y)==bool:\n",
    "        #If only one is boolean there's error only for x or y:  \n",
    "        if type(error_x)==bool:\n",
    "            errX = np.zeros_like(data_x)\n",
    "        else:\n",
    "            errX = error_x\n",
    "            \n",
    "        if type(error_y)==bool:\n",
    "            errY = np.zeros_like(data_y)\n",
    "        else:\n",
    "            errY = error_y\n",
    "    #If no one is boolean\n",
    "    else:\n",
    "        errX = error_x\n",
    "        errY = error_y\n",
    "        \n",
    "    #If both are boolean theres not errors\n",
    "    if type(error_x)==bool and type(error_y)==bool:\n",
    "        errX = np.ones_like(data_x)\n",
    "        errY = np.zeros_like(data_y)\n",
    "        \n",
    "    #Defining the chi2 function for a lineal model   \n",
    "    def chi2_func(a,b):\n",
    "        model_ = a*data_x + b\n",
    "        chi2 = np.sum( (data_y - model_)**2/np.sqrt(errX**2 + errY**2)**2 )\n",
    "        return chi2 \n",
    "    ##################################################################\n",
    "    ##################################################################\n",
    "    \n",
    "    #The limits for the parameters a and b\n",
    "    if limits:\n",
    "        inf_a = limits[0][0]\n",
    "        sup_a = limits[0][1]\n",
    "        inf_b = limits[1][0]\n",
    "        sup_b = limits[1][1]\n",
    "    else:\n",
    "        inf_a = -1.0\n",
    "        sup_a = 1.0\n",
    "        inf_b = -1.0\n",
    "        sup_b = 1.0\n",
    "    \n",
    "    #Minimizing chi2_func using minuit\n",
    "    result_minuit = Minuit(chi2_func, a=a0, error_a=0.1, limit_a=(inf_a,sup_a),\n",
    "                                      b=b0, error_b=0.1, limit_b=(inf_b,sup_b),\n",
    "                                      errordef=1.0, print_level = print_level)\n",
    "    result_minuit_mingrad = result_minuit.migrad()\n",
    "    \n",
    "    if minos:\n",
    "        result_minuit.minos();\n",
    "        result_minuit.print_param()\n",
    "        \n",
    "    #The values of the parameters and their errors\n",
    "    a = result_minuit.values[0]\n",
    "    b = result_minuit.values[1]\n",
    "    aE = result_minuit.errors[0]\n",
    "    bE = result_minuit.errors[1]\n",
    "    \n",
    "    #The chi2 minimal value\n",
    "    chi2_min = chi2_func(a,b)\n",
    "    print(\"The minimize X² is =\", chi2_min)\n",
    "    \n",
    "    return [(a,aE),(b,bE)]"
   ]
  },
  {
   "cell_type": "markdown",
   "metadata": {},
   "source": [
    "# Shells"
   ]
  },
  {
   "cell_type": "code",
   "execution_count": 6,
   "metadata": {},
   "outputs": [],
   "source": [
    "##############################################################################################################\n",
    "##############################################################################################################\n",
    "#This function calculate the shells for a list \"data\"\n",
    "#If limits=True then it must be passed a list \"bounds\" wiht the limits.\n",
    "#If n is an integer then it will build up n shells, if it is a float\n",
    "#it will be the thickness of the shell in the same unities as \"data\".\n",
    "def Shells_simple(Data, n, limits=False, bounds=None):\n",
    "    Data = np.array(Data)\n",
    "    \n",
    "    #Determining if it is any interval to build the shells\n",
    "    if limits:\n",
    "        d_min = bounds[0]\n",
    "        d_max = bounds[1]\n",
    "    else:\n",
    "        d_min = 0.0\n",
    "        d_max = max(Data)  \n",
    "    \n",
    "    #The step\n",
    "    if type(n)==int: \n",
    "        step = (d_max - d_min)/n\n",
    "        #print('int',step)\n",
    "    else:\n",
    "        step = n\n",
    "        #print('float',step)\n",
    "        \n",
    "    #List to save the boolean list for each shell and the distance per shell\n",
    "    shell_idx = list()\n",
    "    shell_dist = list()\n",
    "    \n",
    "    #Building the shells\n",
    "    d_lim = d_max\n",
    "    dist=0.0\n",
    "    while dist < d_lim:\n",
    "        dist = d_min + step\n",
    "        idx_shell = (d_min<Data) & (dist>Data)\n",
    "        if len(Data[idx_shell]) !=0:\n",
    "            shell_idx.append(idx_shell)\n",
    "            shell_dist.append(Data[idx_shell])\n",
    "        d_min = dist\n",
    "    #print('Shells=',len(shell_idx))\n",
    "    return [shell_idx, shell_dist, len(shell_idx)]"
   ]
  },
  {
   "cell_type": "markdown",
   "metadata": {},
   "source": [
    "# Another functions"
   ]
  },
  {
   "cell_type": "code",
   "execution_count": 7,
   "metadata": {},
   "outputs": [],
   "source": [
    "################################################arctang function##################################################\n",
    "#it returns the arctan(y/x) taken into account the quadrant in which the point is. It returns the angle in radians\n",
    "#for the spesial point (0,0) it returns angle=0 radians\n",
    "def arctanInt(x,y):\n",
    "    #Idx for the coordinates\n",
    "    idx = np.array(range(len(x)))\n",
    "    \n",
    "    #Computing the normal arctan\n",
    "    arctan = np.arctan(y/x)\n",
    "    \n",
    "    #Choosing the quadrant\n",
    "    quadrant1 = (0.0<x) & (0.0<y)\n",
    "    quadrant2 = (0.0>x) & (0.0<y)\n",
    "    quadrant3 = (0.0>x) & (0.0>y)\n",
    "    quadrant4 = (0.0<x) & (0.0>y)\n",
    "    \n",
    "    #Idx for those points in each quadrant\n",
    "    idxq1 = idx[quadrant1]\n",
    "    idxq2 = idx[quadrant2]\n",
    "    idxq3 = idx[quadrant3]\n",
    "    idxq4 = idx[quadrant4]\n",
    "    \n",
    "    #Spesial points\n",
    "    X0_Yn = (0.0==np.array(x)) & (0.0>y)                #x=0 and y<0 -> angle=270 degrees\n",
    "    Xn_Y0 = (0.0>x) & (0.0==np.array(y))                #x<0 and y=0 -> angle=180 degrees\n",
    "    X0_Y0 = (0.0==np.array(x)) & (0.0==np.array(y))     #x=0 and y=0 -> there is not angle (we define 0 degrees)\n",
    "    \n",
    "    #Spesial points\n",
    "    id_X0_Yn = idx[X0_Yn]               \n",
    "    id_Xn_Y0 = idx[Xn_Y0] \n",
    "    id_X0_Y0 = idx[X0_Y0]  \n",
    "    \n",
    "    #Changing the arctan for each quadrant \n",
    "    #For the first quadrant it is not necesssary make any change\n",
    "    for i in idxq2:\n",
    "        arctan[i] = arctan[i] + np.pi\n",
    "    for j in idxq3:\n",
    "        arctan[j] = arctan[j] + np.pi\n",
    "    for k in idxq4:\n",
    "        arctan[k] = arctan[k] + 2.0*np.pi \n",
    "    \n",
    "    #Special points\n",
    "    for l in id_X0_Yn:\n",
    "        arctan[l] = 3*np.pi/2.0\n",
    "    for m in id_Xn_Y0:\n",
    "        arctan[m] = np.pi\n",
    "    for n in id_X0_Y0:\n",
    "        arctan[n] = 0.0\n",
    "        \n",
    "    return arctan\n",
    "\n",
    "#This function returns a list without the Nan values in the list list_\n",
    "def NoNanInf(list_):\n",
    "    no_nan = [i for i in list_ if ~(np.isnan(i) or np.isinf(i)) ]\n",
    "    return np.array(no_nan)\n",
    "\n",
    "#This function returns the closest point (3D->[x_i,y_i,z_i]) to \"point\" in the list \"list_coor\"\n",
    "def Closest_point(point,list_coor):\n",
    "    return list_coor[ distance.cdist([point],list_coor).argmin() ]\n",
    "\n",
    "#This function returns the closest value to \"value\" in the list \"lists_\"\n",
    "def Closest_value(value, list_):\n",
    "    return (list_[np.absolute(value-np.array(list_)).argmin()], np.absolute(value-np.array(list_)).argmin())\n",
    "\n",
    "#A lineal mode for the adjust\n",
    "def Lineal_Model(x,a,b):\n",
    "    return a*x + b"
   ]
  },
  {
   "cell_type": "markdown",
   "metadata": {},
   "source": [
    "# GW"
   ]
  },
  {
   "cell_type": "code",
   "execution_count": 8,
   "metadata": {},
   "outputs": [],
   "source": [
    "GW_name = np.array(['GW150914', 'GW151012', 'GW151226', 'GW170104', 'GW170608', 'GW170729', 'GW170809', 'GW170814', 'GW170817', 'GW170818', 'GW170823'])\n",
    "GW_z  = np.array([0.09, 0.21, 0.09, 0.20, 0.07, 0.49, 0.20, 0.12, 0.01, 0.21, 0.35])\n",
    "GW_dl = np.array([440, 1080, 450, 990, 320, 2840, 1030, 600, 40, 1060, 1940])*Mpc\n",
    "GW_dlE= np.array([160, 520, 185, 435, 115, 1380, 355, 185, 11, 400, 935])*Mpc\n",
    "\n",
    "GW_dlz= np.array([Dist_lz(z=z_i) for z_i in GW_z])\n",
    "GW_dc = np.array([Dist_com(z=z_i) for z_i in GW_z])\n",
    "GW_v = vel(Dl=GW_dl, Dl_=GW_dlz, z=GW_z)\n",
    "GW_vE = Error_GWVr(D_=GW_dlz, eD=GW_dlE, z=GW_z)"
   ]
  },
  {
   "cell_type": "markdown",
   "metadata": {},
   "source": [
    "# Union 2.1 "
   ]
  },
  {
   "cell_type": "code",
   "execution_count": 9,
   "metadata": {},
   "outputs": [
    {
     "name": "stdout",
     "output_type": "stream",
     "text": [
      "The shift correction for union2.1 is = 0.08541487895139963\n",
      "The maximal value for z in Union 2.1 is: 0.196716069\n"
     ]
    }
   ],
   "source": [
    "#Loading the data\n",
    "\n",
    "#This one has all the data with the error in the distance modulus and RAC & DEC.\n",
    "#The distance modulus from Union2.1 has been calculated using H0=70Km/s/Mpc, but\n",
    "#in this model we are using the cosmological parameters from the Plank mission so we\n",
    "#need to \"recompute\" the distace modulus. For this we just need to add the correction mu_shift for\n",
    "#each SN in union2.1\n",
    "vel_disp = 250*Km/seg\n",
    "mu_shift = 5*np.log10(H0_Union/H0)\n",
    "ACR = np.load('RAC_ult.npy')\n",
    "DEC = np.load('DEC_ult.npy')\n",
    "z_union = np.load('RedZ_ult.npy')\n",
    "dist_mod_union = np.load('Dmod_ult.npy') - mu_shift\n",
    "dist_mod_unionE = np.load('DmoE_ult.npy') + (5.0/np.log(10.0))*(vel_disp/(C*z_union))\n",
    "names_union = np.load('Name_ult.npy')\n",
    "\n",
    "#The whole data from UNion2.1, they don't have RAC and DEC\n",
    "names_union_full = np.load('Name_fullz.npy')\n",
    "z_union_full = np.load('ReS_fullz.npy')\n",
    "mod_union_full = np.load('DMod_fullz.npy') - mu_shift\n",
    "dist_mod_unionE_full = np.load('EDmod_fullz.npy')\n",
    "#print(len(z_union_full))\n",
    "\n",
    "#Adding GW\n",
    "names_union_full = np.concatenate( (names_union_full, GW_name) )\n",
    "z_union_full = np.concatenate( (z_union_full, GW_z) )  \n",
    "\n",
    "len(DEC),len(ACR),len(z_union),len(dist_mod_union)\n",
    "print ('The shift correction for union2.1 is =', mu_shift)\n",
    "print ('The maximal value for z in Union 2.1 is:', max(z_union))"
   ]
  },
  {
   "cell_type": "code",
   "execution_count": 10,
   "metadata": {},
   "outputs": [],
   "source": [
    "#Distances in Union 2.1\n",
    "dist_com_union21 = np.array([Dist_com(i) for i in z_union])            #Comovil distance\n",
    "dist_z_union21 = np.array([Dist_lz(i) for i in z_union])               #Luminosity distance with z\n",
    "dist_mu_union21= np.array([Dist_lm(i) for i in dist_mod_union])        #Luminosity distance with mu\n",
    "\n",
    "#Comovil and luminosity distances for the whole data in Union2.1\n",
    "dist_com_union21_full = np.array([Dist_com(i) for i in z_union_full])             #comovil\n",
    "dist_z_union21_full = np.array([Dist_lz(i) for i in z_union_full])                #with z\n",
    "dist_mod_union_full = np.array([Dist_lm(i) for i in mod_union_full])              #with mu\n",
    "#print(len(dist_com_union21_full))\n"
   ]
  },
  {
   "cell_type": "code",
   "execution_count": 11,
   "metadata": {},
   "outputs": [],
   "source": [
    "#Transforming from ICRS in Union 2.1 to galactic and then the galactic coordinates are \n",
    "#expressed in cartesian.\n",
    "coors_icrs_union = SkyCoord(ra=ACR*u.deg, dec=DEC*u.deg, distance=dist_com_union21*u.km, frame='icrs')\n",
    "coors_gala_union = coors_icrs_union.transform_to('galactic')\n",
    "\n",
    "XYZ_icrs  = coors_icrs_union.representation_type='cartesian'\n",
    "XYZ_galac = coors_gala_union.representation_type='cartesian'\n",
    "\n",
    "\"\"\"\n",
    "#Coordinates x,y,z in the ICRS frame\n",
    "Xs = np.array(coors_icrs_union.x)\n",
    "Ys = np.array(coors_icrs_union.y)\n",
    "Zs = np.array(coors_icrs_union.z)\n",
    "\"\"\"\n",
    "#Coordinates x,y,z in the galactic frame\n",
    "Xs = np.array(coors_gala_union.u)\n",
    "Ys = np.array(coors_gala_union.v)\n",
    "Zs = np.array(coors_gala_union.w)"
   ]
  },
  {
   "cell_type": "code",
   "execution_count": 12,
   "metadata": {},
   "outputs": [
    {
     "name": "stdout",
     "output_type": "stream",
     "text": [
      "591 591\n"
     ]
    }
   ],
   "source": [
    "#Computing the radial component of the velocity in Km/s\n",
    "Vel_union21 = vel(Dl_=dist_z_union21, Dl=dist_mu_union21, z=z_union)\n",
    "\n",
    "#Computing the radial component of the velocity in Km/s for the whole union\n",
    "Vel_union21_full = vel(Dl=dist_mod_union_full, Dl_=dist_z_union21_full[0:-len(GW_z)], z=z_union_full[0:-len(GW_z)])\n",
    "\n",
    "#Error in the dist lum with the distance modulus and in the velocities from Union2.1\n",
    "EDisMo = Err_dist_mod(dist_mu_union21, dist_mod_unionE)\n",
    "Vr_UnionE = Error_Vr(modD=dist_mod_union, modDE=dist_mod_unionE, z=z_union)\n",
    "\n",
    "#Error in the vr for the whole union\n",
    "Vr_UnionE_full = Error_Vr(modD=mod_union_full, modDE=dist_mod_unionE_full, z=z_union_full[0:-len(GW_z)]) \n",
    "\n",
    "#Adding GW\n",
    "Vel_union21_full = np.concatenate( (Vel_union21_full, GW_v) )\n",
    "Vr_UnionE_full = np.concatenate( (Vr_UnionE_full, GW_vE) )\n",
    "print(len(Vel_union21_full), len(Vr_UnionE_full))"
   ]
  },
  {
   "cell_type": "code",
   "execution_count": 13,
   "metadata": {},
   "outputs": [
    {
     "name": "stdout",
     "output_type": "stream",
     "text": [
      "217\n",
      "*With z_max = 0.0685 the comovil distance is 300.2339259649507 Mpc and 200/h = 297.17682020802374\n",
      "*The max distance for the SNs is = 299.80285804469906 Mpc\n",
      "*The max redshift for 2M++ is z=0.067\n"
     ]
    }
   ],
   "source": [
    "#The 2M++ catalogue has a deep of 0.06 (z), so we choose only those SN with z<max_z for \n",
    "#building the shells.\n",
    "\n",
    "#The maximal redshift we are working with. THis value is based in the depth of 2M++ which is 0.067.\n",
    "max_z = 0.0685\n",
    "\n",
    "Rs_SN_shell = np.array([dist_com_union21[i] for i in range(len(z_union)) if z_union[i]<max_z])\n",
    "Zs_SN_shell = np.array([z_union[i] for i in range(len(z_union)) if z_union[i]<max_z])\n",
    "Xs_SN_shell = np.array([dist_com_union21[i]*(1.0 + z_union[i]) for i in range(len(z_union)) if z_union[i]<max_z])\n",
    "Dlmu_SN_shell = np.array([dist_mu_union21[i] for i in range(len(z_union)) if z_union[i]<max_z])\n",
    "Vs_SN_shell = np.array([Vel_union21[i] for i in range(len(z_union)) if z_union[i]<max_z])\n",
    "Err_DisMo_shell = np.array([EDisMo[0][i] for i in range(len(z_union)) if z_union[i]<max_z])\n",
    "Err_Vr_shell = np.array([Vr_UnionE[i] for i in range(len(z_union)) if z_union[i]<max_z])\n",
    "        \n",
    "print (len(Rs_SN_shell))\n",
    "print ('*With z_max =',max_z, 'the comovil distance is', Dist_com(max_z)/Mpc,'Mpc', 'and 200/h =',200.0/h)\n",
    "print('*The max distance for the SNs is =',max(Rs_SN_shell)/Mpc,'Mpc')\n",
    "print('*The max redshift for 2M++ is z=0.067' )"
   ]
  },
  {
   "cell_type": "markdown",
   "metadata": {},
   "source": [
    "# Shells $z<max$_$z$"
   ]
  },
  {
   "cell_type": "code",
   "execution_count": 14,
   "metadata": {},
   "outputs": [
    {
     "data": {
      "text/plain": [
       "28"
      ]
     },
     "execution_count": 14,
     "metadata": {},
     "output_type": "execute_result"
    }
   ],
   "source": [
    "#Building the shells for Union 2.1\n",
    "Shells_SN = Shells_simple(Data=Rs_SN_shell, n=29)\n",
    "\n",
    "#We are taking only the shells [0:-1] to obtain the same result as in \"Proyeto_grado-ipynb\"\n",
    "Shells_SNidx = Shells_SN[0][0:-1] \n",
    "len(Shells_SNidx)"
   ]
  },
  {
   "cell_type": "code",
   "execution_count": 15,
   "metadata": {},
   "outputs": [],
   "source": [
    "#Information for the shells in Union 2.1\n",
    "Sn_shell_z  = np.array([Zs_SN_shell[idxSN] for idxSN in Shells_SNidx])          #z's for each shell\n",
    "Sn_shell_za = np.array([np.mean(i) for i in Sn_shell_z])                        #z average for each shell\n",
    "Sn_shell_zStd= np.array([np.std(i) for i in Sn_shell_z])                        #std for z in each shell\n",
    "\n",
    "#Computing the average velocity in each shell using method 2\n",
    "#The average is weighted\n",
    "va2 = [] \n",
    "for i in range(len(Shells_SNidx)):    \n",
    "    Dl = Weighted_mean(data=Dlmu_SN_shell[Shells_SNidx[i]], Errs=Err_DisMo_shell[Shells_SNidx[i]])\n",
    "    Dl_= np.average(Xs_SN_shell[Shells_SNidx[i]])\n",
    "    #We compute the vr as -v dot n (For the paper)\n",
    "    va2.append( -C*Sn_shell_za[i]*(Dl/Dl_ - 1.0) )\n",
    "Sn_shell_va2 = np.array(va2)\n",
    "\n",
    "#Weighted std's for the errors of the velocities in each shell\n",
    "Sn_shell_vStd= np.array([Weighted_std(Err_Vr_shell[idxSN]) for idxSN in Shells_SNidx])  "
   ]
  },
  {
   "cell_type": "code",
   "execution_count": 16,
   "metadata": {},
   "outputs": [],
   "source": [
    "#Calculating the average density contrast from a X²\n",
    "\n",
    "#With shells\n",
    "def chi_2_shell_sn(a1,b1):\n",
    "    model = a1*Sn_shell_za + b1\n",
    "    chisq2 = np.sum( ( (Sn_shell_va2/C - model)/np.sqrt(Sn_shell_zStd**2.0 + (Sn_shell_vStd/C)**2.0) )**2.0 )\n",
    "    return chisq2\n",
    "\n",
    "#Without shells\n",
    "def chi_2_nshell_sn(an1,bn1):\n",
    "    model = an1*Zs_SN_shell + bn1\n",
    "    chisq2 = np.sum( ( (Vs_SN_shell/C - model)/(Err_Vr_shell/C)  )**2.0 )\n",
    "    return chisq2"
   ]
  },
  {
   "cell_type": "code",
   "execution_count": 17,
   "metadata": {},
   "outputs": [],
   "source": [
    "#Minimization using Minuit\n",
    "#For SNe with shells\n",
    "result_shell_minuit = Minuit(chi_2_shell_sn, a1=0.0, error_a1=0.1, limit_a1=(-1.0,1.0),\n",
    "                                             b1=0.0, error_b1=1e-5,limit_b1=(-1.0,1.0),\n",
    "                                             errordef=1.0)\n",
    "\n",
    "#For SNe without shells\n",
    "result_nshell_minuit = Minuit(chi_2_nshell_sn, an1=0.0, error_an1=0.1, limit_an1=(-1.0,1.0),\n",
    "                                               bn1=0.0, error_bn1=1e-5,limit_bn1=(-1.0,1.0),\n",
    "                                               errordef=1.0)"
   ]
  },
  {
   "cell_type": "code",
   "execution_count": 18,
   "metadata": {},
   "outputs": [
    {
     "data": {
      "text/html": [
       "<hr>"
      ]
     },
     "metadata": {},
     "output_type": "display_data"
    },
    {
     "data": {
      "text/html": [
       "<table>\n",
       "    <tr>\n",
       "        <td title=\"Minimum value of function\">FCN = 12.544728550479842</td>\n",
       "        <td title=\"Total number of call to FCN so far\">TOTAL NCALL = 37</td>\n",
       "        <td title=\"Number of call in last migrad\">NCALLS = 37</td>\n",
       "    </tr>\n",
       "    <tr>\n",
       "        <td title=\"Estimated distance to minimum\">EDM = 2.5984179830233806e-08</td>\n",
       "        <td title=\"Maximum EDM definition of convergence\">GOAL EDM = 1e-05</td>\n",
       "        <td title=\"Error def. Amount of increase in FCN to be defined as 1 standard deviation\">\n",
       "        UP = 1.0</td>\n",
       "    </tr>\n",
       "</table>\n",
       "<table>\n",
       "    <tr>\n",
       "        <td align=\"center\" title=\"Validity of the migrad call\">Valid</td>\n",
       "        <td align=\"center\" title=\"Validity of parameters\">Valid Param</td>\n",
       "        <td align=\"center\" title=\"Is Covariance matrix accurate?\">Accurate Covar</td>\n",
       "        <td align=\"center\" title=\"Positive definiteness of covariance matrix\">PosDef</td>\n",
       "        <td align=\"center\" title=\"Was covariance matrix made posdef by adding diagonal element\">Made PosDef</td>\n",
       "    </tr>\n",
       "    <tr>\n",
       "        <td align=\"center\" style=\"background-color:#92CCA6\">True</td>\n",
       "        <td align=\"center\" style=\"background-color:#92CCA6\">True</td>\n",
       "        <td align=\"center\" style=\"background-color:#92CCA6\">True</td>\n",
       "        <td align=\"center\" style=\"background-color:#92CCA6\">True</td>\n",
       "        <td align=\"center\" style=\"background-color:#92CCA6\">False</td>\n",
       "    </tr>\n",
       "    <tr>\n",
       "        <td align=\"center\" title=\"Was last hesse call fail?\">Hesse Fail</td>\n",
       "        <td align=\"center\" title=\"Validity of covariance\">HasCov</td>\n",
       "        <td align=\"center\" title=\"Is EDM above goal EDM?\">Above EDM</td>\n",
       "        <td align=\"center\"></td>\n",
       "        <td align=\"center\" title=\"Did last migrad call reach max call limit?\">Reach calllim</td>\n",
       "    </tr>\n",
       "    <tr>\n",
       "        <td align=\"center\" style=\"background-color:#92CCA6\">False</td>\n",
       "        <td align=\"center\" style=\"background-color:#92CCA6\">True</td>\n",
       "        <td align=\"center\" style=\"background-color:#92CCA6\">False</td>\n",
       "        <td align=\"center\"></td>\n",
       "        <td align=\"center\" style=\"background-color:#92CCA6\">False</td>\n",
       "    </tr>\n",
       "</table>"
      ]
     },
     "metadata": {},
     "output_type": "display_data"
    },
    {
     "data": {
      "text/html": [
       "<table>\n",
       "    <tr>\n",
       "        <td><a href=\"#\" onclick=\"$('#kFjGTziuKi').toggle()\">+</a></td>\n",
       "        <td title=\"Variable name\">Name</td>\n",
       "        <td title=\"Value of parameter\">Value</td>\n",
       "        <td title=\"Hesse error\">Hesse Error</td>\n",
       "        <td title=\"Minos lower error\">Minos Error-</td>\n",
       "        <td title=\"Minos upper error\">Minos Error+</td>\n",
       "        <td title=\"Lower limit of the parameter\">Limit-</td>\n",
       "        <td title=\"Upper limit of the parameter\">Limit+</td>\n",
       "        <td title=\"Is the parameter fixed in the fit\">Fixed?</td>\n",
       "    </tr>\n",
       "    <tr>\n",
       "        <td>0</td>\n",
       "        <td>a1</td>\n",
       "        <td>0.0842764</td>\n",
       "        <td>0.0169653</td>\n",
       "        <td></td>\n",
       "        <td></td>\n",
       "        <td>-1</td>\n",
       "        <td>1</td>\n",
       "        <td>No</td>\n",
       "    </tr>\n",
       "    <tr>\n",
       "        <td>1</td>\n",
       "        <td>b1</td>\n",
       "        <td>0.000145015</td>\n",
       "        <td>0.000430535</td>\n",
       "        <td></td>\n",
       "        <td></td>\n",
       "        <td>-1</td>\n",
       "        <td>1</td>\n",
       "        <td>No</td>\n",
       "    </tr>\n",
       "</table>\n",
       "<pre id=\"kFjGTziuKi\" style=\"display:none;\">\n",
       "<textarea rows=\"10\" cols=\"50\" onclick=\"this.select()\" readonly>\n",
       "\\begin{tabular}{|c|r|r|r|r|r|r|r|c|}\n",
       "\\hline\n",
       " & Name & Value & Hesse Error & Minos Error- & Minos Error+ & Limit- & Limit+ & Fixed?\\\\\n",
       "\\hline\n",
       "0 & a1 & 0.0842764 & 0.0169653 &  &  & -1.0 & 1 & No\\\\\n",
       "\\hline\n",
       "1 & b1 & 0.000145015 & 0.000430535 &  &  & -1.0 & 1 & No\\\\\n",
       "\\hline\n",
       "\\end{tabular}\n",
       "</textarea>\n",
       "</pre>"
      ]
     },
     "metadata": {},
     "output_type": "display_data"
    },
    {
     "data": {
      "text/html": [
       "<hr>"
      ]
     },
     "metadata": {},
     "output_type": "display_data"
    }
   ],
   "source": [
    "result_shell_minuit.migrad();"
   ]
  },
  {
   "cell_type": "code",
   "execution_count": 19,
   "metadata": {},
   "outputs": [
    {
     "data": {
      "text/html": [
       "<span>Minos status for a1: <span style=\"background-color:#92CCA6\">VALID</span></span>\n",
       "<table>\n",
       "    <tr>\n",
       "        <td title=\"lower and upper minos error of the parameter\">Error</td>\n",
       "        <td>-0.01696404582818537</td>\n",
       "        <td>0.016968314343872606</td>\n",
       "    </tr>\n",
       "    <tr>\n",
       "        <td title=\"Validity of minos error\">Valid</td>\n",
       "        <td style=\"background-color:#92CCA6\">True</td>\n",
       "        <td style=\"background-color:#92CCA6\">True</td>\n",
       "    </tr>\n",
       "    <tr>\n",
       "        <td title=\"Did minos error search hit limit of any parameter?\">At Limit</td>\n",
       "        <td style=\"background-color:#92CCA6\">False</td>\n",
       "        <td style=\"background-color:#92CCA6\">False</td>\n",
       "    </tr>\n",
       "    <tr>\n",
       "        <td title=\"I don't really know what this one means... Post it in issue if you know\">Max FCN</td>\n",
       "        <td style=\"background-color:#92CCA6\">False</td>\n",
       "        <td style=\"background-color:#92CCA6\">False</td>\n",
       "    </tr>\n",
       "    <tr>\n",
       "        <td title=\"New minimum found when doing minos scan.\">New Min</td>\n",
       "        <td style=\"background-color:#92CCA6\">False</td>\n",
       "        <td style=\"background-color:#92CCA6\">False</td>\n",
       "    </tr>\n",
       "</table>"
      ]
     },
     "metadata": {},
     "output_type": "display_data"
    },
    {
     "data": {
      "text/html": [
       "<span>Minos status for b1: <span style=\"background-color:#92CCA6\">VALID</span></span>\n",
       "<table>\n",
       "    <tr>\n",
       "        <td title=\"lower and upper minos error of the parameter\">Error</td>\n",
       "        <td>-0.00043055910972995777</td>\n",
       "        <td>0.00043051287807447357</td>\n",
       "    </tr>\n",
       "    <tr>\n",
       "        <td title=\"Validity of minos error\">Valid</td>\n",
       "        <td style=\"background-color:#92CCA6\">True</td>\n",
       "        <td style=\"background-color:#92CCA6\">True</td>\n",
       "    </tr>\n",
       "    <tr>\n",
       "        <td title=\"Did minos error search hit limit of any parameter?\">At Limit</td>\n",
       "        <td style=\"background-color:#92CCA6\">False</td>\n",
       "        <td style=\"background-color:#92CCA6\">False</td>\n",
       "    </tr>\n",
       "    <tr>\n",
       "        <td title=\"I don't really know what this one means... Post it in issue if you know\">Max FCN</td>\n",
       "        <td style=\"background-color:#92CCA6\">False</td>\n",
       "        <td style=\"background-color:#92CCA6\">False</td>\n",
       "    </tr>\n",
       "    <tr>\n",
       "        <td title=\"New minimum found when doing minos scan.\">New Min</td>\n",
       "        <td style=\"background-color:#92CCA6\">False</td>\n",
       "        <td style=\"background-color:#92CCA6\">False</td>\n",
       "    </tr>\n",
       "</table>"
      ]
     },
     "metadata": {},
     "output_type": "display_data"
    }
   ],
   "source": [
    "result_shell_minuit.minos();"
   ]
  },
  {
   "cell_type": "code",
   "execution_count": 20,
   "metadata": {},
   "outputs": [
    {
     "data": {
      "text/html": [
       "<table>\n",
       "    <tr>\n",
       "        <td><a href=\"#\" onclick=\"$('#HiPVcvvuzp').toggle()\">+</a></td>\n",
       "        <td title=\"Variable name\">Name</td>\n",
       "        <td title=\"Value of parameter\">Value</td>\n",
       "        <td title=\"Hesse error\">Hesse Error</td>\n",
       "        <td title=\"Minos lower error\">Minos Error-</td>\n",
       "        <td title=\"Minos upper error\">Minos Error+</td>\n",
       "        <td title=\"Lower limit of the parameter\">Limit-</td>\n",
       "        <td title=\"Upper limit of the parameter\">Limit+</td>\n",
       "        <td title=\"Is the parameter fixed in the fit\">Fixed?</td>\n",
       "    </tr>\n",
       "    <tr>\n",
       "        <td>0</td>\n",
       "        <td>a1</td>\n",
       "        <td>0.0842764</td>\n",
       "        <td>0.0169653</td>\n",
       "        <td>-0.016964</td>\n",
       "        <td>0.0169683</td>\n",
       "        <td>-1</td>\n",
       "        <td>1</td>\n",
       "        <td>No</td>\n",
       "    </tr>\n",
       "    <tr>\n",
       "        <td>1</td>\n",
       "        <td>b1</td>\n",
       "        <td>0.000145015</td>\n",
       "        <td>0.000430535</td>\n",
       "        <td>-0.000430559</td>\n",
       "        <td>0.000430513</td>\n",
       "        <td>-1</td>\n",
       "        <td>1</td>\n",
       "        <td>No</td>\n",
       "    </tr>\n",
       "</table>\n",
       "<pre id=\"HiPVcvvuzp\" style=\"display:none;\">\n",
       "<textarea rows=\"10\" cols=\"50\" onclick=\"this.select()\" readonly>\n",
       "\\begin{tabular}{|c|r|r|r|r|r|r|r|c|}\n",
       "\\hline\n",
       " & Name & Value & Hesse Error & Minos Error- & Minos Error+ & Limit- & Limit+ & Fixed?\\\\\n",
       "\\hline\n",
       "0 & a1 & 0.0842764 & 0.0169653 & -0.016964 & 0.0169683 & -1.0 & 1 & No\\\\\n",
       "\\hline\n",
       "1 & b1 & 0.000145015 & 0.000430535 & -0.000430559 & 0.000430513 & -1.0 & 1 & No\\\\\n",
       "\\hline\n",
       "\\end{tabular}\n",
       "</textarea>\n",
       "</pre>"
      ]
     },
     "metadata": {},
     "output_type": "display_data"
    }
   ],
   "source": [
    "result_shell_minuit.print_param()"
   ]
  },
  {
   "cell_type": "code",
   "execution_count": 21,
   "metadata": {},
   "outputs": [
    {
     "name": "stdout",
     "output_type": "stream",
     "text": [
      "#########################################################################\n",
      "The degrees of freedom are df= 26\n",
      "The X² for this fit is = 12.544728550479842\n",
      "The X²/df for this fit is = 0.4824895596338401\n",
      "p-value = 0.9876611268792639\n",
      "#########################################################################\n"
     ]
    }
   ],
   "source": [
    "#Some statistics for the fit\n",
    "print('#########################################################################')\n",
    "df = len(Sn_shell_za)-2 #Degrees of freedom\n",
    "CHI2 = chi_2_shell_sn(a1=result_shell_minuit.values[0], b1=result_shell_minuit.values[1])\n",
    "print('The degrees of freedom are df=', df)\n",
    "print('The X² for this fit is =', CHI2)\n",
    "print('The X²/df for this fit is =', CHI2/df )\n",
    "print('p-value =',1-sp.stats.chi2.cdf(CHI2, df) ) \n",
    "print('#########################################################################')"
   ]
  },
  {
   "cell_type": "code",
   "execution_count": 22,
   "metadata": {},
   "outputs": [
    {
     "data": {
      "text/html": [
       "<hr>"
      ]
     },
     "metadata": {},
     "output_type": "display_data"
    },
    {
     "data": {
      "text/html": [
       "<table>\n",
       "    <tr>\n",
       "        <td title=\"Minimum value of function\">FCN = 157.59530760126322</td>\n",
       "        <td title=\"Total number of call to FCN so far\">TOTAL NCALL = 37</td>\n",
       "        <td title=\"Number of call in last migrad\">NCALLS = 37</td>\n",
       "    </tr>\n",
       "    <tr>\n",
       "        <td title=\"Estimated distance to minimum\">EDM = 1.3880609629668601e-08</td>\n",
       "        <td title=\"Maximum EDM definition of convergence\">GOAL EDM = 1e-05</td>\n",
       "        <td title=\"Error def. Amount of increase in FCN to be defined as 1 standard deviation\">\n",
       "        UP = 1.0</td>\n",
       "    </tr>\n",
       "</table>\n",
       "<table>\n",
       "    <tr>\n",
       "        <td align=\"center\" title=\"Validity of the migrad call\">Valid</td>\n",
       "        <td align=\"center\" title=\"Validity of parameters\">Valid Param</td>\n",
       "        <td align=\"center\" title=\"Is Covariance matrix accurate?\">Accurate Covar</td>\n",
       "        <td align=\"center\" title=\"Positive definiteness of covariance matrix\">PosDef</td>\n",
       "        <td align=\"center\" title=\"Was covariance matrix made posdef by adding diagonal element\">Made PosDef</td>\n",
       "    </tr>\n",
       "    <tr>\n",
       "        <td align=\"center\" style=\"background-color:#92CCA6\">True</td>\n",
       "        <td align=\"center\" style=\"background-color:#92CCA6\">True</td>\n",
       "        <td align=\"center\" style=\"background-color:#92CCA6\">True</td>\n",
       "        <td align=\"center\" style=\"background-color:#92CCA6\">True</td>\n",
       "        <td align=\"center\" style=\"background-color:#92CCA6\">False</td>\n",
       "    </tr>\n",
       "    <tr>\n",
       "        <td align=\"center\" title=\"Was last hesse call fail?\">Hesse Fail</td>\n",
       "        <td align=\"center\" title=\"Validity of covariance\">HasCov</td>\n",
       "        <td align=\"center\" title=\"Is EDM above goal EDM?\">Above EDM</td>\n",
       "        <td align=\"center\"></td>\n",
       "        <td align=\"center\" title=\"Did last migrad call reach max call limit?\">Reach calllim</td>\n",
       "    </tr>\n",
       "    <tr>\n",
       "        <td align=\"center\" style=\"background-color:#92CCA6\">False</td>\n",
       "        <td align=\"center\" style=\"background-color:#92CCA6\">True</td>\n",
       "        <td align=\"center\" style=\"background-color:#92CCA6\">False</td>\n",
       "        <td align=\"center\"></td>\n",
       "        <td align=\"center\" style=\"background-color:#92CCA6\">False</td>\n",
       "    </tr>\n",
       "</table>"
      ]
     },
     "metadata": {},
     "output_type": "display_data"
    },
    {
     "data": {
      "text/html": [
       "<table>\n",
       "    <tr>\n",
       "        <td><a href=\"#\" onclick=\"$('#OwbWsBAGtD').toggle()\">+</a></td>\n",
       "        <td title=\"Variable name\">Name</td>\n",
       "        <td title=\"Value of parameter\">Value</td>\n",
       "        <td title=\"Hesse error\">Hesse Error</td>\n",
       "        <td title=\"Minos lower error\">Minos Error-</td>\n",
       "        <td title=\"Minos upper error\">Minos Error+</td>\n",
       "        <td title=\"Lower limit of the parameter\">Limit-</td>\n",
       "        <td title=\"Upper limit of the parameter\">Limit+</td>\n",
       "        <td title=\"Is the parameter fixed in the fit\">Fixed?</td>\n",
       "    </tr>\n",
       "    <tr>\n",
       "        <td>0</td>\n",
       "        <td>an1</td>\n",
       "        <td>0.0697619</td>\n",
       "        <td>0.0140462</td>\n",
       "        <td></td>\n",
       "        <td></td>\n",
       "        <td>-1</td>\n",
       "        <td>1</td>\n",
       "        <td>No</td>\n",
       "    </tr>\n",
       "    <tr>\n",
       "        <td>1</td>\n",
       "        <td>bn1</td>\n",
       "        <td>0.000506978</td>\n",
       "        <td>0.00031097</td>\n",
       "        <td></td>\n",
       "        <td></td>\n",
       "        <td>-1</td>\n",
       "        <td>1</td>\n",
       "        <td>No</td>\n",
       "    </tr>\n",
       "</table>\n",
       "<pre id=\"OwbWsBAGtD\" style=\"display:none;\">\n",
       "<textarea rows=\"10\" cols=\"50\" onclick=\"this.select()\" readonly>\n",
       "\\begin{tabular}{|c|r|r|r|r|r|r|r|c|}\n",
       "\\hline\n",
       " & Name & Value & Hesse Error & Minos Error- & Minos Error+ & Limit- & Limit+ & Fixed?\\\\\n",
       "\\hline\n",
       "0 & an1 & 0.0697619 & 0.0140462 &  &  & -1.0 & 1 & No\\\\\n",
       "\\hline\n",
       "1 & bn1 & 0.000506978 & 0.00031097 &  &  & -1.0 & 1 & No\\\\\n",
       "\\hline\n",
       "\\end{tabular}\n",
       "</textarea>\n",
       "</pre>"
      ]
     },
     "metadata": {},
     "output_type": "display_data"
    },
    {
     "data": {
      "text/html": [
       "<hr>"
      ]
     },
     "metadata": {},
     "output_type": "display_data"
    }
   ],
   "source": [
    "result_nshell_minuit.migrad();"
   ]
  },
  {
   "cell_type": "code",
   "execution_count": 23,
   "metadata": {},
   "outputs": [
    {
     "data": {
      "text/html": [
       "<span>Minos status for an1: <span style=\"background-color:#92CCA6\">VALID</span></span>\n",
       "<table>\n",
       "    <tr>\n",
       "        <td title=\"lower and upper minos error of the parameter\">Error</td>\n",
       "        <td>-0.014045563883933476</td>\n",
       "        <td>0.014047802600035493</td>\n",
       "    </tr>\n",
       "    <tr>\n",
       "        <td title=\"Validity of minos error\">Valid</td>\n",
       "        <td style=\"background-color:#92CCA6\">True</td>\n",
       "        <td style=\"background-color:#92CCA6\">True</td>\n",
       "    </tr>\n",
       "    <tr>\n",
       "        <td title=\"Did minos error search hit limit of any parameter?\">At Limit</td>\n",
       "        <td style=\"background-color:#92CCA6\">False</td>\n",
       "        <td style=\"background-color:#92CCA6\">False</td>\n",
       "    </tr>\n",
       "    <tr>\n",
       "        <td title=\"I don't really know what this one means... Post it in issue if you know\">Max FCN</td>\n",
       "        <td style=\"background-color:#92CCA6\">False</td>\n",
       "        <td style=\"background-color:#92CCA6\">False</td>\n",
       "    </tr>\n",
       "    <tr>\n",
       "        <td title=\"New minimum found when doing minos scan.\">New Min</td>\n",
       "        <td style=\"background-color:#92CCA6\">False</td>\n",
       "        <td style=\"background-color:#92CCA6\">False</td>\n",
       "    </tr>\n",
       "</table>"
      ]
     },
     "metadata": {},
     "output_type": "display_data"
    },
    {
     "data": {
      "text/html": [
       "<span>Minos status for bn1: <span style=\"background-color:#92CCA6\">VALID</span></span>\n",
       "<table>\n",
       "    <tr>\n",
       "        <td title=\"lower and upper minos error of the parameter\">Error</td>\n",
       "        <td>-0.00031097788021327877</td>\n",
       "        <td>0.0003109638176568517</td>\n",
       "    </tr>\n",
       "    <tr>\n",
       "        <td title=\"Validity of minos error\">Valid</td>\n",
       "        <td style=\"background-color:#92CCA6\">True</td>\n",
       "        <td style=\"background-color:#92CCA6\">True</td>\n",
       "    </tr>\n",
       "    <tr>\n",
       "        <td title=\"Did minos error search hit limit of any parameter?\">At Limit</td>\n",
       "        <td style=\"background-color:#92CCA6\">False</td>\n",
       "        <td style=\"background-color:#92CCA6\">False</td>\n",
       "    </tr>\n",
       "    <tr>\n",
       "        <td title=\"I don't really know what this one means... Post it in issue if you know\">Max FCN</td>\n",
       "        <td style=\"background-color:#92CCA6\">False</td>\n",
       "        <td style=\"background-color:#92CCA6\">False</td>\n",
       "    </tr>\n",
       "    <tr>\n",
       "        <td title=\"New minimum found when doing minos scan.\">New Min</td>\n",
       "        <td style=\"background-color:#92CCA6\">False</td>\n",
       "        <td style=\"background-color:#92CCA6\">False</td>\n",
       "    </tr>\n",
       "</table>"
      ]
     },
     "metadata": {},
     "output_type": "display_data"
    }
   ],
   "source": [
    "result_nshell_minuit.minos();"
   ]
  },
  {
   "cell_type": "code",
   "execution_count": 24,
   "metadata": {},
   "outputs": [
    {
     "data": {
      "text/html": [
       "<table>\n",
       "    <tr>\n",
       "        <td><a href=\"#\" onclick=\"$('#BlYXnabFRt').toggle()\">+</a></td>\n",
       "        <td title=\"Variable name\">Name</td>\n",
       "        <td title=\"Value of parameter\">Value</td>\n",
       "        <td title=\"Hesse error\">Hesse Error</td>\n",
       "        <td title=\"Minos lower error\">Minos Error-</td>\n",
       "        <td title=\"Minos upper error\">Minos Error+</td>\n",
       "        <td title=\"Lower limit of the parameter\">Limit-</td>\n",
       "        <td title=\"Upper limit of the parameter\">Limit+</td>\n",
       "        <td title=\"Is the parameter fixed in the fit\">Fixed?</td>\n",
       "    </tr>\n",
       "    <tr>\n",
       "        <td>0</td>\n",
       "        <td>an1</td>\n",
       "        <td>0.0697619</td>\n",
       "        <td>0.0140462</td>\n",
       "        <td>-0.0140456</td>\n",
       "        <td>0.0140478</td>\n",
       "        <td>-1</td>\n",
       "        <td>1</td>\n",
       "        <td>No</td>\n",
       "    </tr>\n",
       "    <tr>\n",
       "        <td>1</td>\n",
       "        <td>bn1</td>\n",
       "        <td>0.000506978</td>\n",
       "        <td>0.00031097</td>\n",
       "        <td>-0.000310978</td>\n",
       "        <td>0.000310964</td>\n",
       "        <td>-1</td>\n",
       "        <td>1</td>\n",
       "        <td>No</td>\n",
       "    </tr>\n",
       "</table>\n",
       "<pre id=\"BlYXnabFRt\" style=\"display:none;\">\n",
       "<textarea rows=\"10\" cols=\"50\" onclick=\"this.select()\" readonly>\n",
       "\\begin{tabular}{|c|r|r|r|r|r|r|r|c|}\n",
       "\\hline\n",
       " & Name & Value & Hesse Error & Minos Error- & Minos Error+ & Limit- & Limit+ & Fixed?\\\\\n",
       "\\hline\n",
       "0 & an1 & 0.0697619 & 0.0140462 & -0.0140456 & 0.0140478 & -1.0 & 1 & No\\\\\n",
       "\\hline\n",
       "1 & bn1 & 0.000506978 & 0.00031097 & -0.000310978 & 0.000310964 & -1.0 & 1 & No\\\\\n",
       "\\hline\n",
       "\\end{tabular}\n",
       "</textarea>\n",
       "</pre>"
      ]
     },
     "metadata": {},
     "output_type": "display_data"
    }
   ],
   "source": [
    "result_nshell_minuit.print_param()"
   ]
  },
  {
   "cell_type": "code",
   "execution_count": 25,
   "metadata": {},
   "outputs": [
    {
     "name": "stdout",
     "output_type": "stream",
     "text": [
      "#########################################################################\n",
      "The degrees of freedom are df= 215\n",
      "The X² for this fit is = 157.59530760126322\n",
      "The X²/df for this fit is = 0.7330014307035498\n",
      "p-value = 0.9987734930361856\n",
      "#########################################################################\n"
     ]
    }
   ],
   "source": [
    "#Some statistics for the fit\n",
    "print('#########################################################################')\n",
    "df = len(Zs_SN_shell)-2 #Degrees of freedom\n",
    "CHI2 = chi_2_nshell_sn(an1=result_nshell_minuit.values[0], bn1=result_nshell_minuit.values[1])\n",
    "print('The degrees of freedom are df=', df)\n",
    "print('The X² for this fit is =', CHI2)\n",
    "print('The X²/df for this fit is =', CHI2/df )\n",
    "print('p-value =',1-sp.stats.chi2.cdf(CHI2, df) ) \n",
    "print('#########################################################################')"
   ]
  },
  {
   "cell_type": "code",
   "execution_count": 26,
   "metadata": {
    "scrolled": false
   },
   "outputs": [
    {
     "data": {
      "image/png": "[encoded data removed]",
      "text/plain": [
       "<Figure size 1080x432 with 3 Axes>"
      ]
     },
     "metadata": {
      "needs_background": "light"
     },
     "output_type": "display_data"
    }
   ],
   "source": [
    "e=1.0\n",
    "fig, ax = plt.subplots(constrained_layout=False, figsize=(15,6))\n",
    "\n",
    "ax=plt.subplot(121)\n",
    "plt.plot(Sn_shell_za, Lineal_Model(Sn_shell_za, result_shell_minuit.values[0], result_shell_minuit.values[1]), linewidth=2, label=r'$m=%.4f \\pm %.4f$' '\\n' r'$b=%.4f \\pm %.4f$'%(result_shell_minuit.values[0], result_shell_minuit.errors[0], result_shell_minuit.values[1], result_shell_minuit.errors[1]))\n",
    "#plt.plot(Sn_no_nan_za, Lineal_Model(Sn_no_nan_za, result_shell_minuit.values['a1'], result_shell_minuit.values['b1']), label='Minuit')\n",
    "ax.errorbar(Sn_shell_za, Sn_shell_va2/C, xerr=Sn_shell_zStd, yerr=e*Sn_shell_vStd/C, fmt='ro', ecolor='black', barsabove=False)\n",
    "plt.xlabel(r'$\\bar z$')\n",
    "plt.ylabel(r'$\\bar v_{r}/c$', rotation=0)\n",
    "#plt.text(0.011, 0.009, r'$m=%.5f \\pm %.5f$'%(result_shell_minuit.values[0], result_shell_minuit.errors[0]) )\n",
    "#plt.text(0.011, 0.0083,r'$b=%.5f \\pm %.5f$'%(result_shell_minuit.values[1], result_shell_minuit.errors[1]) )\n",
    "plt.text(0.011, 0.0083,r'$\\bar \\delta=%.4f \\pm %.4f$'%(-3*result_shell_minuit.values[0]/f,abs(3*result_shell_minuit.errors[0]/f)) )\n",
    "#plt.title(r'Using shells')  \n",
    "plt.grid()\n",
    "plt.legend(loc='upper right',fancybox=True, shadow=True)\n",
    "\n",
    "ax=plt.subplot(122)\n",
    "result_shell_minuit.draw_contour('a1','b1', bins=100, show_sigma=True, bound=4);\n",
    "plt.suptitle(r'Shells')\n",
    "plt.xlabel('m')\n",
    "plt.ylabel('b', rotation=0)\n",
    "\n",
    "ax2 = ax.twiny()\n",
    "new_tick_locations = [0.02, 0.04, 0.06, 0.08, 0.1, 0.12, 0.14]\n",
    "ax2.set_xlim(ax.get_xlim())\n",
    "ax2.set_xticks(new_tick_locations)\n",
    "def delta_(m):\n",
    "    return [round(-3*i/f, 3) for i in m]\n",
    "ax2.set_xticklabels( delta_( np.array(new_tick_locations) ) )\n",
    "ax2.set_xlabel(r'$\\bar \\delta=-3m/cf$')\n",
    "\n",
    "plt.savefig('/home/brayan/Documentos/Universidad/Proyecto_de_grado/Proyecto_grado_Notebooks/Figures_paper_c/vr_vs_z_SN_ShellFit.png')"
   ]
  },
  {
   "cell_type": "code",
   "execution_count": 27,
   "metadata": {},
   "outputs": [
    {
     "data": {
      "text/plain": [
       "\"\\nfig=plt.figure()\\nresult_shell_minuit.draw_contour('a1','b1', bins=100, show_sigma=True, bound=4);\\nplt.xlabel('m')\\nplt.ylabel('b', rotation=0)\\nplt.savefig('/home/brayan/Documentos/Universidad/Proyecto_de_grado/Proyecto_grado_Notebooks/Figures_paper_c/vr_vs_z_SN_ShellFit.png')\\n\""
      ]
     },
     "execution_count": 27,
     "metadata": {},
     "output_type": "execute_result"
    }
   ],
   "source": [
    "\"\"\"\n",
    "fig=plt.figure()\n",
    "result_shell_minuit.draw_contour('a1','b1', bins=100, show_sigma=True, bound=4);\n",
    "plt.xlabel('m')\n",
    "plt.ylabel('b', rotation=0)\n",
    "plt.savefig('/home/brayan/Documentos/Universidad/Proyecto_de_grado/Proyecto_grado_Notebooks/Figures_paper_c/vr_vs_z_SN_ShellFit.png')\n",
    "\"\"\""
   ]
  },
  {
   "cell_type": "code",
   "execution_count": 28,
   "metadata": {},
   "outputs": [
    {
     "name": "stdout",
     "output_type": "stream",
     "text": [
      "[0.   0.02 0.04 0.06 0.08 0.1  0.12 0.14]\n"
     ]
    },
    {
     "data": {
      "image/png": "[encoded data removed]",
      "text/plain": [
       "<Figure size 1080x432 with 3 Axes>"
      ]
     },
     "metadata": {
      "needs_background": "light"
     },
     "output_type": "display_data"
    }
   ],
   "source": [
    "e=1.0\n",
    "plt.figure(figsize=(15,6))\n",
    "\n",
    "ax=plt.subplot(121)\n",
    "plt.plot(Zs_SN_shell, Lineal_Model(Zs_SN_shell, result_nshell_minuit.values[0], result_nshell_minuit.values[1]), linewidth=2, label=r'$m=%.4f \\pm %.4f$' '\\n' r'$b=%.4f \\pm %.4f$'%(result_nshell_minuit.values[0], result_nshell_minuit.errors[0], result_nshell_minuit.values[1], result_nshell_minuit.errors[1]))\n",
    "#plt.plot(Sn_no_nan_za, Lineal_Model(Sn_no_nan_za, result_shell_minuit.values['a1'], result_shell_minuit.values['b1']), label='Minuit')\n",
    "ax.errorbar(Zs_SN_shell, Vs_SN_shell/C, yerr=e*Err_Vr_shell/C, fmt='ro', ecolor='black', barsabove=False)\n",
    "plt.xlabel(r'$z$')\n",
    "plt.ylabel(r'$v_{r}/c$', rotation=0)\n",
    "#plt.text(0.011,-0.015, r'$m=%.5f \\pm %.5f$'%(result_nshell_minuit.values[0], result_nshell_minuit.errors[0]) )\n",
    "#plt.text(0.011,-0.018,r'$b=%.5f \\pm %.5f$'%(result_nshell_minuit.values[1], result_nshell_minuit.errors[1]) )\n",
    "plt.text(0.011,-0.018,r'$\\bar \\delta=%.4f \\pm %.4f$'%(-3*result_nshell_minuit.values[0]/f,abs(3*result_nshell_minuit.errors[0]/f)))\n",
    "#plt.title(r'No shells')  \n",
    "plt.grid()\n",
    "plt.legend(loc='lower right',fancybox=True, shadow=True)\n",
    "\n",
    "ax=plt.subplot(122)\n",
    "#result_nshell_minuit.draw_mncontour('an1', 'bn1', nsigma=4, numpoints=100);\n",
    "result_nshell_minuit.draw_contour('an1', 'bn1', bins=100, show_sigma=True, bound=4);\n",
    "print(ax.get_xticks())\n",
    "plt.xlabel('m')\n",
    "plt.ylabel('b', rotation=0)\n",
    "plt.suptitle(r'No shells')\n",
    "\n",
    "ax2 = ax.twiny()\n",
    "new_tick_locations = [0.02, 0.04, 0.06, 0.08, 0.1, 0.12]\n",
    "ax2.set_xlim(ax.get_xlim())\n",
    "ax2.set_xticks(new_tick_locations)\n",
    "def delta_(m):\n",
    "    return [round(-3*i/f, 3) for i in m]\n",
    "ax2.set_xticklabels( delta_( np.array(new_tick_locations) ) )\n",
    "ax2.set_xlabel(r'$\\bar \\delta=-3m/cf$')\n",
    "\n",
    "plt.savefig('/home/brayan/Documentos/Universidad/Proyecto_de_grado/Proyecto_grado_Notebooks/Figures_paper_c/vr_vs_z_SN_nShellFit.png')"
   ]
  },
  {
   "cell_type": "code",
   "execution_count": 29,
   "metadata": {
    "scrolled": false
   },
   "outputs": [
    {
     "data": {
      "text/plain": [
       "\"\\nfig = plt.figure()\\n#result_nshell_minuit.draw_mncontour('an1', 'bn1', nsigma=4, numpoints=100);\\nresult_nshell_minuit.draw_contour('an1', 'bn1', bins=100, show_sigma=True, bound=4);\\nplt.xlabel('m')\\nplt.ylabel('b', rotation=0)\\n\""
      ]
     },
     "execution_count": 29,
     "metadata": {},
     "output_type": "execute_result"
    }
   ],
   "source": [
    "\"\"\"\n",
    "fig = plt.figure()\n",
    "#result_nshell_minuit.draw_mncontour('an1', 'bn1', nsigma=4, numpoints=100);\n",
    "result_nshell_minuit.draw_contour('an1', 'bn1', bins=100, show_sigma=True, bound=4);\n",
    "plt.xlabel('m')\n",
    "plt.ylabel('b', rotation=0)\n",
    "\"\"\""
   ]
  },
  {
   "cell_type": "markdown",
   "metadata": {},
   "source": [
    "# Beyond $z_{max}$, determining the size of the inhomogeneity, $0<z<0.11$"
   ]
  },
  {
   "cell_type": "code",
   "execution_count": 30,
   "metadata": {},
   "outputs": [],
   "source": [
    "ns_i = 0.004      #This is the step in \"unities\" of z to build the shells\n",
    "z_inf = 0.0       #lower z\n",
    "z_sup = 0.11      #max z, beyond 2M++\n",
    "#z_sup = 0.12\n",
    "\n",
    "#For shells\n",
    "shells_0z11 = Shells_simple(Data=z_union_full, n=ns_i, limits=True, bounds=[z_inf, z_sup])\n",
    "Sn_0z11_v  = np.array([Weighted_mean(data=Vel_union21_full[j], Errs=Vr_UnionE_full[j]) for j in shells_0z11[0]])\n",
    "Sn_0z11_vE = np.array([Weighted_std(Errs=Vr_UnionE_full[j]) for j in shells_0z11[0]])\n",
    "Sn_0z11_z  = np.array([np.mean(z_union_full[j]) for j in shells_0z11[0]])\n",
    "Sn_0z11_names = np.array([names_union_full[j] for j in shells_0z11[0]])\n",
    "\n",
    "#Without shells\n",
    "idx_0z11_full  = z_union_full<z_sup\n",
    "Sn_0z11_z_full = z_union_full[idx_0z11_full]\n",
    "Sn_0z11_v_full = Vel_union21_full[idx_0z11_full]\n",
    "Sn_0z11_vE_full= Vr_UnionE_full[idx_0z11_full]\n",
    "Sn_0z11_names_full = names_union_full[idx_0z11_full]"
   ]
  },
  {
   "cell_type": "code",
   "execution_count": 31,
   "metadata": {},
   "outputs": [],
   "source": [
    "############################################# Minimizing a and d #############################################\n",
    "\"\"\"\n",
    "#X² for a piecewise function using shells \n",
    "def chi2_z011_shell(a, d):\n",
    "    z_lim = (d/a)**0.25\n",
    "    Idx_zona1 = z_lim>Sn_0z11_z\n",
    "    Idx_zona2 = z_lim<Sn_0z11_z\n",
    "    \n",
    "    model1 = a*Sn_0z11_z[Idx_zona1] \n",
    "    chi2_zona1 = np.sum(  (Sn_0z11_v[Idx_zona1]/C - model1)**2/(Sn_0z11_vE[Idx_zona1]/C)**2 )\n",
    "        \n",
    "    #The second region is where the density contrast averaged begins to drop like 1/r³   \n",
    "    model2 = d/(Sn_0z11_z[Idx_zona2])**3\n",
    "    chi2_zona2 = np.sum( (Sn_0z11_v[Idx_zona2]/C - model2)**2/(Sn_0z11_vE[Idx_zona2]/C)**2 )\n",
    "     \n",
    "    return chi2_zona1 + chi2_zona2\n",
    "\n",
    "#X² for a piecewise function without using shells\n",
    "def chi2_z011_nshell(a, d):\n",
    "    z_lim = (d/a)**0.25\n",
    "    Idx_zona1 = z_lim>Sn_0z11_z_full\n",
    "    Idx_zona2 = z_lim<Sn_0z11_z_full\n",
    "    \n",
    "    model1 = a*Sn_0z11_z_full[Idx_zona1] \n",
    "    chi2_zona1 = np.sum(  (Sn_0z11_v_full[Idx_zona1]/C - model1)**2/(Sn_0z11_vE_full[Idx_zona1]/C)**2 )\n",
    "        \n",
    "    #The second region is where the density contrast averaged begins to drop like 1/r³   \n",
    "    model2 = d/(Sn_0z11_z_full[Idx_zona2])**3\n",
    "    chi2_zona2 = np.sum( (Sn_0z11_v_full[Idx_zona2]/C - model2)**2/(Sn_0z11_vE_full[Idx_zona2]/C)**2 )\n",
    "     \n",
    "    return chi2_zona1 + chi2_zona2\n",
    "\"\"\"\n",
    "############################################# Minimizing a and z_lim #############################################\n",
    "#X² for a piecewise function using shells \n",
    "def chi2_z011_shell_zlim(a, z_lim):\n",
    "    Idx_zona1 = z_lim>Sn_0z11_z\n",
    "    Idx_zona2 = z_lim<Sn_0z11_z\n",
    "    \n",
    "    model1 = a*Sn_0z11_z[Idx_zona1] \n",
    "    chi2_zona1 = np.sum(  (Sn_0z11_v[Idx_zona1]/C - model1)**2/(Sn_0z11_vE[Idx_zona1]/C)**2 )\n",
    "        \n",
    "    #The second region is where the density contrast averaged begins to drop like 1/r³   \n",
    "    model2 = a*z_lim**4/(Sn_0z11_z[Idx_zona2])**3\n",
    "    chi2_zona2 = np.sum( (Sn_0z11_v[Idx_zona2]/C - model2)**2/(Sn_0z11_vE[Idx_zona2]/C)**2 )\n",
    "     \n",
    "    return chi2_zona1 + chi2_zona2\n",
    "\n",
    "#X² for a piecewise function without using shells\n",
    "def chi2_z011_nshell_zlim(a, z_lim):\n",
    "    Idx_zona1 = z_lim>Sn_0z11_z_full\n",
    "    Idx_zona2 = z_lim<Sn_0z11_z_full\n",
    "    \n",
    "    model1 = a*Sn_0z11_z_full[Idx_zona1] \n",
    "    chi2_zona1 = np.sum(  (Sn_0z11_v_full[Idx_zona1]/C - model1)**2/(Sn_0z11_vE_full[Idx_zona1]/C)**2 )\n",
    "        \n",
    "    #The second region is where the density contrast averaged begins to drop like 1/r³   \n",
    "    model2 = a*z_lim**4/(Sn_0z11_z_full[Idx_zona2])**3\n",
    "    chi2_zona2 = np.sum( (Sn_0z11_v_full[Idx_zona2]/C - model2)**2/(Sn_0z11_vE_full[Idx_zona2]/C)**2 )\n",
    "     \n",
    "    return chi2_zona1 + chi2_zona2\n"
   ]
  },
  {
   "cell_type": "code",
   "execution_count": 32,
   "metadata": {},
   "outputs": [],
   "source": [
    "\"\"\"\n",
    "############################################# Minimizing a and d #############################################\n",
    "result_minuit_z011_shell  = Minuit(chi2_z011_shell, a = 0.5, error_a = 0.001,  \n",
    "                                                    d = 1e-7, error_d = 0.001,\n",
    "                                                    errordef = 1.0 )\n",
    "\n",
    "result_minuit_z011_nshell = Minuit(chi2_z011_nshell,a = 0.02, error_a = 0.001, \n",
    "                                                    d = 1e-7, error_d = 0.001,\n",
    "                                                    errordef = 1.0 )\n",
    "\"\"\"\n",
    "############################################# Minimizing a and z_lim #############################################\n",
    "result_minuit_z011_shell_zlim  = Minuit(chi2_z011_shell_zlim, a = 0.02, error_a = 0.001,  \n",
    "                                                              z_lim = 0.05, error_z_lim = 0.001,\n",
    "                                                              errordef = 1.0 )\n",
    "\n",
    "result_minuit_z011_nshell_zlim = Minuit(chi2_z011_nshell_zlim, a = 0.02, error_a = 0.001, \n",
    "                                                               z_lim = 0.05, error_z_lim = 0.001,\n",
    "                                                               errordef = 1.0 )"
   ]
  },
  {
   "cell_type": "code",
   "execution_count": 33,
   "metadata": {},
   "outputs": [
    {
     "data": {
      "text/plain": [
       "'\\nresult_minuit_z011_shell.migrad();\\nresult_minuit_z011_shell.migrad_ok()\\n'"
      ]
     },
     "execution_count": 33,
     "metadata": {},
     "output_type": "execute_result"
    }
   ],
   "source": [
    "\"\"\"\n",
    "result_minuit_z011_shell.migrad();\n",
    "result_minuit_z011_shell.migrad_ok()\n",
    "\"\"\""
   ]
  },
  {
   "cell_type": "code",
   "execution_count": 34,
   "metadata": {},
   "outputs": [
    {
     "data": {
      "text/plain": [
       "'\\nresult_minuit_z011_nshell.migrad(ncall=1000000);\\nresult_minuit_z011_nshell.migrad_ok()\\n'"
      ]
     },
     "execution_count": 34,
     "metadata": {},
     "output_type": "execute_result"
    }
   ],
   "source": [
    "\"\"\"\n",
    "result_minuit_z011_nshell.migrad(ncall=1000000);\n",
    "result_minuit_z011_nshell.migrad_ok()\n",
    "\"\"\""
   ]
  },
  {
   "cell_type": "code",
   "execution_count": 35,
   "metadata": {},
   "outputs": [
    {
     "data": {
      "text/html": [
       "<hr>"
      ]
     },
     "metadata": {},
     "output_type": "display_data"
    },
    {
     "data": {
      "text/html": [
       "<table>\n",
       "    <tr>\n",
       "        <td title=\"Minimum value of function\">FCN = 17.40418058569064</td>\n",
       "        <td title=\"Total number of call to FCN so far\">TOTAL NCALL = 68</td>\n",
       "        <td title=\"Number of call in last migrad\">NCALLS = 68</td>\n",
       "    </tr>\n",
       "    <tr>\n",
       "        <td title=\"Estimated distance to minimum\">EDM = 5.637144975352583e-06</td>\n",
       "        <td title=\"Maximum EDM definition of convergence\">GOAL EDM = 1e-05</td>\n",
       "        <td title=\"Error def. Amount of increase in FCN to be defined as 1 standard deviation\">\n",
       "        UP = 1.0</td>\n",
       "    </tr>\n",
       "</table>\n",
       "<table>\n",
       "    <tr>\n",
       "        <td align=\"center\" title=\"Validity of the migrad call\">Valid</td>\n",
       "        <td align=\"center\" title=\"Validity of parameters\">Valid Param</td>\n",
       "        <td align=\"center\" title=\"Is Covariance matrix accurate?\">Accurate Covar</td>\n",
       "        <td align=\"center\" title=\"Positive definiteness of covariance matrix\">PosDef</td>\n",
       "        <td align=\"center\" title=\"Was covariance matrix made posdef by adding diagonal element\">Made PosDef</td>\n",
       "    </tr>\n",
       "    <tr>\n",
       "        <td align=\"center\" style=\"background-color:#92CCA6\">True</td>\n",
       "        <td align=\"center\" style=\"background-color:#92CCA6\">True</td>\n",
       "        <td align=\"center\" style=\"background-color:#92CCA6\">True</td>\n",
       "        <td align=\"center\" style=\"background-color:#92CCA6\">True</td>\n",
       "        <td align=\"center\" style=\"background-color:#92CCA6\">False</td>\n",
       "    </tr>\n",
       "    <tr>\n",
       "        <td align=\"center\" title=\"Was last hesse call fail?\">Hesse Fail</td>\n",
       "        <td align=\"center\" title=\"Validity of covariance\">HasCov</td>\n",
       "        <td align=\"center\" title=\"Is EDM above goal EDM?\">Above EDM</td>\n",
       "        <td align=\"center\"></td>\n",
       "        <td align=\"center\" title=\"Did last migrad call reach max call limit?\">Reach calllim</td>\n",
       "    </tr>\n",
       "    <tr>\n",
       "        <td align=\"center\" style=\"background-color:#92CCA6\">False</td>\n",
       "        <td align=\"center\" style=\"background-color:#92CCA6\">True</td>\n",
       "        <td align=\"center\" style=\"background-color:#92CCA6\">False</td>\n",
       "        <td align=\"center\"></td>\n",
       "        <td align=\"center\" style=\"background-color:#92CCA6\">False</td>\n",
       "    </tr>\n",
       "</table>"
      ]
     },
     "metadata": {},
     "output_type": "display_data"
    },
    {
     "data": {
      "text/html": [
       "<table>\n",
       "    <tr>\n",
       "        <td><a href=\"#\" onclick=\"$('#BptWGLUwju').toggle()\">+</a></td>\n",
       "        <td title=\"Variable name\">Name</td>\n",
       "        <td title=\"Value of parameter\">Value</td>\n",
       "        <td title=\"Hesse error\">Hesse Error</td>\n",
       "        <td title=\"Minos lower error\">Minos Error-</td>\n",
       "        <td title=\"Minos upper error\">Minos Error+</td>\n",
       "        <td title=\"Lower limit of the parameter\">Limit-</td>\n",
       "        <td title=\"Upper limit of the parameter\">Limit+</td>\n",
       "        <td title=\"Is the parameter fixed in the fit\">Fixed?</td>\n",
       "    </tr>\n",
       "    <tr>\n",
       "        <td>0</td>\n",
       "        <td>a</td>\n",
       "        <td>0.082962</td>\n",
       "        <td>0.00548686</td>\n",
       "        <td></td>\n",
       "        <td></td>\n",
       "        <td></td>\n",
       "        <td></td>\n",
       "        <td>No</td>\n",
       "    </tr>\n",
       "    <tr>\n",
       "        <td>1</td>\n",
       "        <td>z_lim</td>\n",
       "        <td>0.0839689</td>\n",
       "        <td>0.00553269</td>\n",
       "        <td></td>\n",
       "        <td></td>\n",
       "        <td></td>\n",
       "        <td></td>\n",
       "        <td>No</td>\n",
       "    </tr>\n",
       "</table>\n",
       "<pre id=\"BptWGLUwju\" style=\"display:none;\">\n",
       "<textarea rows=\"10\" cols=\"50\" onclick=\"this.select()\" readonly>\n",
       "\\begin{tabular}{|c|r|r|r|r|r|r|r|c|}\n",
       "\\hline\n",
       " & Name & Value & Hesse Error & Minos Error- & Minos Error+ & Limit- & Limit+ & Fixed?\\\\\n",
       "\\hline\n",
       "0 & a & 0.082962 & 0.00548686 &  &  &  &  & No\\\\\n",
       "\\hline\n",
       "1 & $z_{lim}$ & 0.0839689 & 0.00553269 &  &  &  &  & No\\\\\n",
       "\\hline\n",
       "\\end{tabular}\n",
       "</textarea>\n",
       "</pre>"
      ]
     },
     "metadata": {},
     "output_type": "display_data"
    },
    {
     "data": {
      "text/html": [
       "<hr>"
      ]
     },
     "metadata": {},
     "output_type": "display_data"
    },
    {
     "data": {
      "text/plain": [
       "True"
      ]
     },
     "execution_count": 35,
     "metadata": {},
     "output_type": "execute_result"
    }
   ],
   "source": [
    "result_minuit_z011_shell_zlim.migrad(ncall=100000);\n",
    "result_minuit_z011_shell_zlim.migrad_ok()"
   ]
  },
  {
   "cell_type": "code",
   "execution_count": 36,
   "metadata": {},
   "outputs": [
    {
     "data": {
      "text/html": [
       "<hr>"
      ]
     },
     "metadata": {},
     "output_type": "display_data"
    },
    {
     "data": {
      "text/html": [
       "<table>\n",
       "    <tr>\n",
       "        <td title=\"Minimum value of function\">FCN = 165.24709986136682</td>\n",
       "        <td title=\"Total number of call to FCN so far\">TOTAL NCALL = 51</td>\n",
       "        <td title=\"Number of call in last migrad\">NCALLS = 51</td>\n",
       "    </tr>\n",
       "    <tr>\n",
       "        <td title=\"Estimated distance to minimum\">EDM = 1.3313526836062036e-07</td>\n",
       "        <td title=\"Maximum EDM definition of convergence\">GOAL EDM = 1e-05</td>\n",
       "        <td title=\"Error def. Amount of increase in FCN to be defined as 1 standard deviation\">\n",
       "        UP = 1.0</td>\n",
       "    </tr>\n",
       "</table>\n",
       "<table>\n",
       "    <tr>\n",
       "        <td align=\"center\" title=\"Validity of the migrad call\">Valid</td>\n",
       "        <td align=\"center\" title=\"Validity of parameters\">Valid Param</td>\n",
       "        <td align=\"center\" title=\"Is Covariance matrix accurate?\">Accurate Covar</td>\n",
       "        <td align=\"center\" title=\"Positive definiteness of covariance matrix\">PosDef</td>\n",
       "        <td align=\"center\" title=\"Was covariance matrix made posdef by adding diagonal element\">Made PosDef</td>\n",
       "    </tr>\n",
       "    <tr>\n",
       "        <td align=\"center\" style=\"background-color:#92CCA6\">True</td>\n",
       "        <td align=\"center\" style=\"background-color:#92CCA6\">True</td>\n",
       "        <td align=\"center\" style=\"background-color:#92CCA6\">True</td>\n",
       "        <td align=\"center\" style=\"background-color:#92CCA6\">True</td>\n",
       "        <td align=\"center\" style=\"background-color:#92CCA6\">False</td>\n",
       "    </tr>\n",
       "    <tr>\n",
       "        <td align=\"center\" title=\"Was last hesse call fail?\">Hesse Fail</td>\n",
       "        <td align=\"center\" title=\"Validity of covariance\">HasCov</td>\n",
       "        <td align=\"center\" title=\"Is EDM above goal EDM?\">Above EDM</td>\n",
       "        <td align=\"center\"></td>\n",
       "        <td align=\"center\" title=\"Did last migrad call reach max call limit?\">Reach calllim</td>\n",
       "    </tr>\n",
       "    <tr>\n",
       "        <td align=\"center\" style=\"background-color:#92CCA6\">False</td>\n",
       "        <td align=\"center\" style=\"background-color:#92CCA6\">True</td>\n",
       "        <td align=\"center\" style=\"background-color:#92CCA6\">False</td>\n",
       "        <td align=\"center\"></td>\n",
       "        <td align=\"center\" style=\"background-color:#92CCA6\">False</td>\n",
       "    </tr>\n",
       "</table>"
      ]
     },
     "metadata": {},
     "output_type": "display_data"
    },
    {
     "data": {
      "text/html": [
       "<table>\n",
       "    <tr>\n",
       "        <td><a href=\"#\" onclick=\"$('#FSGJOpGCEF').toggle()\">+</a></td>\n",
       "        <td title=\"Variable name\">Name</td>\n",
       "        <td title=\"Value of parameter\">Value</td>\n",
       "        <td title=\"Hesse error\">Hesse Error</td>\n",
       "        <td title=\"Minos lower error\">Minos Error-</td>\n",
       "        <td title=\"Minos upper error\">Minos Error+</td>\n",
       "        <td title=\"Lower limit of the parameter\">Limit-</td>\n",
       "        <td title=\"Upper limit of the parameter\">Limit+</td>\n",
       "        <td title=\"Is the parameter fixed in the fit\">Fixed?</td>\n",
       "    </tr>\n",
       "    <tr>\n",
       "        <td>0</td>\n",
       "        <td>a</td>\n",
       "        <td>0.0845407</td>\n",
       "        <td>0.00538403</td>\n",
       "        <td></td>\n",
       "        <td></td>\n",
       "        <td></td>\n",
       "        <td></td>\n",
       "        <td>No</td>\n",
       "    </tr>\n",
       "    <tr>\n",
       "        <td>1</td>\n",
       "        <td>z_lim</td>\n",
       "        <td>0.0836103</td>\n",
       "        <td>0.00546769</td>\n",
       "        <td></td>\n",
       "        <td></td>\n",
       "        <td></td>\n",
       "        <td></td>\n",
       "        <td>No</td>\n",
       "    </tr>\n",
       "</table>\n",
       "<pre id=\"FSGJOpGCEF\" style=\"display:none;\">\n",
       "<textarea rows=\"10\" cols=\"50\" onclick=\"this.select()\" readonly>\n",
       "\\begin{tabular}{|c|r|r|r|r|r|r|r|c|}\n",
       "\\hline\n",
       " & Name & Value & Hesse Error & Minos Error- & Minos Error+ & Limit- & Limit+ & Fixed?\\\\\n",
       "\\hline\n",
       "0 & a & 0.0845407 & 0.00538403 &  &  &  &  & No\\\\\n",
       "\\hline\n",
       "1 & $z_{lim}$ & 0.0836103 & 0.00546769 &  &  &  &  & No\\\\\n",
       "\\hline\n",
       "\\end{tabular}\n",
       "</textarea>\n",
       "</pre>"
      ]
     },
     "metadata": {},
     "output_type": "display_data"
    },
    {
     "data": {
      "text/html": [
       "<hr>"
      ]
     },
     "metadata": {},
     "output_type": "display_data"
    },
    {
     "data": {
      "text/plain": [
       "True"
      ]
     },
     "execution_count": 36,
     "metadata": {},
     "output_type": "execute_result"
    }
   ],
   "source": [
    "result_minuit_z011_nshell_zlim.migrad(ncall=1000000);\n",
    "result_minuit_z011_nshell_zlim.migrad_ok()"
   ]
  },
  {
   "cell_type": "code",
   "execution_count": 37,
   "metadata": {},
   "outputs": [
    {
     "name": "stdout",
     "output_type": "stream",
     "text": [
      "################################################\n",
      "z_lim_shell= 0.08396893712073576 Minimizing z_lim\n",
      "z_lim_nshell= 0.08361025119208332 Minimizing z_lim\n"
     ]
    }
   ],
   "source": [
    "\"\"\"\n",
    "############################################# Minimizing a and d #############################################\n",
    "a_z011_shell = result_minuit_z011_shell.values[0]\n",
    "a_z011E_shell= result_minuit_z011_shell.errors[0]\n",
    "d_z011_shell = result_minuit_z011_shell.values[1]\n",
    "d_z011E_shell= result_minuit_z011_shell.errors[1]\n",
    "\n",
    "a_z011_nshell = result_minuit_z011_nshell.values[0]\n",
    "a_z011E_nshell= result_minuit_z011_nshell.errors[0]\n",
    "d_z011_nshell = result_minuit_z011_nshell.values[1]\n",
    "d_z011E_nshell= result_minuit_z011_nshell.errors[1]\n",
    "\n",
    "z_lim_shell  = (d_z011_shell/a_z011_shell)**0.25\n",
    "z_lim_nshell = (d_z011_nshell/a_z011_nshell)**0.25\n",
    "\"\"\"\n",
    "############################################# Minimizing a and z_lim #############################################\n",
    "a_z011_shell_zlim = result_minuit_z011_shell_zlim.values[0]\n",
    "a_z011E_shell_zlim= result_minuit_z011_shell_zlim.errors[0]\n",
    "zlim_z011_shell = result_minuit_z011_shell_zlim.values[1]\n",
    "zlim_z011E_shell= result_minuit_z011_shell_zlim.errors[1]\n",
    "\n",
    "a_z011_nshell_zlim = result_minuit_z011_nshell_zlim.values[0]\n",
    "a_z011E_nshell_zlim= result_minuit_z011_nshell_zlim.errors[0]\n",
    "zlim_z011_nshell = result_minuit_z011_nshell_zlim.values[1]\n",
    "zlim_z011E_nshell= result_minuit_z011_nshell_zlim.errors[1]\n",
    "\n",
    "\"\"\"\n",
    "print('z_lim_shell=', z_lim_shell, 'Minimizing d')\n",
    "print('z_lim_nshell=', z_lim_nshell,'Minimizing d')\n",
    "\"\"\"\n",
    "print('################################################')\n",
    "print('z_lim_shell=', zlim_z011_shell, 'Minimizing z_lim')\n",
    "print('z_lim_nshell=',zlim_z011_nshell,'Minimizing z_lim')"
   ]
  },
  {
   "cell_type": "code",
   "execution_count": 38,
   "metadata": {
    "scrolled": false
   },
   "outputs": [
    {
     "name": "stdout",
     "output_type": "stream",
     "text": [
      " \n"
     ]
    }
   ],
   "source": [
    "\"\"\"\n",
    "#3D plot for chi2_z011_shell\n",
    "#As, Ds = np.meshgrid(np.linspace(-1,1, len(Sn_shell_z)), np.linspace(-1,1, len(Sn_shell_z)) )\n",
    "As, Ds = np.meshgrid(np.arange(-1,1,0.1), np.arange(-1,1,0.1) )\n",
    "#As, Ds = np.meshgrid(np.arange(a_z011_shell-a_z011E_shell,a_z011_shell+a_z011E_shell,0.0001), np.arange(d_z011_shell-d_z011E_shell,d_z011_shell+d_z011E_shell,0.0001) )\n",
    "As = np.array([As.reshape(-1,1)[i][0] for i in range(len(As.reshape(-1,1))) ])\n",
    "Ds = np.array([Ds.reshape(-1,1)[i][0] for i in range(len(Ds.reshape(-1,1))) ])\n",
    "X2s = np.array([chi2_z011_shell(a=As[i], d=Ds[i]) for i in range(len(As))])\n",
    "#X2s = chi2_z011_shell(As, Ds)\n",
    "\n",
    "fig = plt.figure(figsize=(7,7))\n",
    "ax = fig.gca(projection='3d')\n",
    "ax.plot_trisurf(As, Ds, X2s)\n",
    "ax.set_xlabel('a')\n",
    "#ax.set_xticks([-1,0,1])\n",
    "ax.set_ylabel('d')\n",
    "ax.set_zlabel(r'$\\chi^2$', rotation=0)\n",
    "ax.set_title(r'$\\chi^2$ $regions$')\n",
    "plt.savefig('/home/brayan/Documentos/Universidad/Proyecto_de_grado/Proyecto_grado_Notebooks/Figures_paper_c/chi2_0z02_2regions.png')\n",
    "\"\"\"\n",
    "print(' ')"
   ]
  },
  {
   "cell_type": "code",
   "execution_count": 39,
   "metadata": {},
   "outputs": [],
   "source": [
    "#result_minuit_z011_shell.minos();"
   ]
  },
  {
   "cell_type": "code",
   "execution_count": 40,
   "metadata": {},
   "outputs": [],
   "source": [
    "#result_minuit_z011_nshell.minos(maxcall=10000000);"
   ]
  },
  {
   "cell_type": "code",
   "execution_count": 41,
   "metadata": {},
   "outputs": [
    {
     "data": {
      "text/html": [
       "<span>Minos status for a: <span style=\"background-color:#92CCA6\">VALID</span></span>\n",
       "<table>\n",
       "    <tr>\n",
       "        <td title=\"lower and upper minos error of the parameter\">Error</td>\n",
       "        <td>-0.005496377099171894</td>\n",
       "        <td>0.005476961089517852</td>\n",
       "    </tr>\n",
       "    <tr>\n",
       "        <td title=\"Validity of minos error\">Valid</td>\n",
       "        <td style=\"background-color:#92CCA6\">True</td>\n",
       "        <td style=\"background-color:#92CCA6\">True</td>\n",
       "    </tr>\n",
       "    <tr>\n",
       "        <td title=\"Did minos error search hit limit of any parameter?\">At Limit</td>\n",
       "        <td style=\"background-color:#92CCA6\">False</td>\n",
       "        <td style=\"background-color:#92CCA6\">False</td>\n",
       "    </tr>\n",
       "    <tr>\n",
       "        <td title=\"I don't really know what this one means... Post it in issue if you know\">Max FCN</td>\n",
       "        <td style=\"background-color:#92CCA6\">False</td>\n",
       "        <td style=\"background-color:#92CCA6\">False</td>\n",
       "    </tr>\n",
       "    <tr>\n",
       "        <td title=\"New minimum found when doing minos scan.\">New Min</td>\n",
       "        <td style=\"background-color:#92CCA6\">False</td>\n",
       "        <td style=\"background-color:#92CCA6\">False</td>\n",
       "    </tr>\n",
       "</table>"
      ]
     },
     "metadata": {},
     "output_type": "display_data"
    },
    {
     "data": {
      "text/html": [
       "<span>Minos status for z_lim: <span style=\"background-color:#92CCA6\">VALID</span></span>\n",
       "<table>\n",
       "    <tr>\n",
       "        <td title=\"lower and upper minos error of the parameter\">Error</td>\n",
       "        <td>-0.005164035557701614</td>\n",
       "        <td>0.010385984376270072</td>\n",
       "    </tr>\n",
       "    <tr>\n",
       "        <td title=\"Validity of minos error\">Valid</td>\n",
       "        <td style=\"background-color:#92CCA6\">True</td>\n",
       "        <td style=\"background-color:#92CCA6\">True</td>\n",
       "    </tr>\n",
       "    <tr>\n",
       "        <td title=\"Did minos error search hit limit of any parameter?\">At Limit</td>\n",
       "        <td style=\"background-color:#92CCA6\">False</td>\n",
       "        <td style=\"background-color:#92CCA6\">False</td>\n",
       "    </tr>\n",
       "    <tr>\n",
       "        <td title=\"I don't really know what this one means... Post it in issue if you know\">Max FCN</td>\n",
       "        <td style=\"background-color:#92CCA6\">False</td>\n",
       "        <td style=\"background-color:#92CCA6\">False</td>\n",
       "    </tr>\n",
       "    <tr>\n",
       "        <td title=\"New minimum found when doing minos scan.\">New Min</td>\n",
       "        <td style=\"background-color:#92CCA6\">False</td>\n",
       "        <td style=\"background-color:#92CCA6\">False</td>\n",
       "    </tr>\n",
       "</table>"
      ]
     },
     "metadata": {},
     "output_type": "display_data"
    }
   ],
   "source": [
    "result_minuit_z011_shell_zlim.minos();"
   ]
  },
  {
   "cell_type": "code",
   "execution_count": 42,
   "metadata": {},
   "outputs": [
    {
     "data": {
      "text/html": [
       "<span>Minos status for a: <span style=\"background-color:#FF7878\">PROBLEM</span></span>\n",
       "<table>\n",
       "    <tr>\n",
       "        <td title=\"lower and upper minos error of the parameter\">Error</td>\n",
       "        <td>-0.00538403047283309</td>\n",
       "        <td>0.005381392219070055</td>\n",
       "    </tr>\n",
       "    <tr>\n",
       "        <td title=\"Validity of minos error\">Valid</td>\n",
       "        <td style=\"background-color:#FF7878\">False</td>\n",
       "        <td style=\"background-color:#92CCA6\">True</td>\n",
       "    </tr>\n",
       "    <tr>\n",
       "        <td title=\"Did minos error search hit limit of any parameter?\">At Limit</td>\n",
       "        <td style=\"background-color:#92CCA6\">False</td>\n",
       "        <td style=\"background-color:#92CCA6\">False</td>\n",
       "    </tr>\n",
       "    <tr>\n",
       "        <td title=\"I don't really know what this one means... Post it in issue if you know\">Max FCN</td>\n",
       "        <td style=\"background-color:#92CCA6\">False</td>\n",
       "        <td style=\"background-color:#92CCA6\">False</td>\n",
       "    </tr>\n",
       "    <tr>\n",
       "        <td title=\"New minimum found when doing minos scan.\">New Min</td>\n",
       "        <td style=\"background-color:#92CCA6\">False</td>\n",
       "        <td style=\"background-color:#92CCA6\">False</td>\n",
       "    </tr>\n",
       "</table>"
      ]
     },
     "metadata": {},
     "output_type": "display_data"
    },
    {
     "data": {
      "text/html": [
       "<span>Minos status for z_lim: <span style=\"background-color:#92CCA6\">VALID</span></span>\n",
       "<table>\n",
       "    <tr>\n",
       "        <td title=\"lower and upper minos error of the parameter\">Error</td>\n",
       "        <td>-0.004986448618267307</td>\n",
       "        <td>0.00916357182127058</td>\n",
       "    </tr>\n",
       "    <tr>\n",
       "        <td title=\"Validity of minos error\">Valid</td>\n",
       "        <td style=\"background-color:#92CCA6\">True</td>\n",
       "        <td style=\"background-color:#92CCA6\">True</td>\n",
       "    </tr>\n",
       "    <tr>\n",
       "        <td title=\"Did minos error search hit limit of any parameter?\">At Limit</td>\n",
       "        <td style=\"background-color:#92CCA6\">False</td>\n",
       "        <td style=\"background-color:#92CCA6\">False</td>\n",
       "    </tr>\n",
       "    <tr>\n",
       "        <td title=\"I don't really know what this one means... Post it in issue if you know\">Max FCN</td>\n",
       "        <td style=\"background-color:#92CCA6\">False</td>\n",
       "        <td style=\"background-color:#92CCA6\">False</td>\n",
       "    </tr>\n",
       "    <tr>\n",
       "        <td title=\"New minimum found when doing minos scan.\">New Min</td>\n",
       "        <td style=\"background-color:#92CCA6\">False</td>\n",
       "        <td style=\"background-color:#92CCA6\">False</td>\n",
       "    </tr>\n",
       "</table>"
      ]
     },
     "metadata": {},
     "output_type": "display_data"
    }
   ],
   "source": [
    "result_minuit_z011_nshell_zlim.minos(maxcall=1000000);"
   ]
  },
  {
   "cell_type": "code",
   "execution_count": 43,
   "metadata": {},
   "outputs": [],
   "source": [
    "#result_minuit_z011_shell.print_param()"
   ]
  },
  {
   "cell_type": "code",
   "execution_count": 44,
   "metadata": {},
   "outputs": [],
   "source": [
    "#result_minuit_z011_nshell.print_param()"
   ]
  },
  {
   "cell_type": "code",
   "execution_count": 45,
   "metadata": {},
   "outputs": [
    {
     "data": {
      "text/html": [
       "<table>\n",
       "    <tr>\n",
       "        <td><a href=\"#\" onclick=\"$('#vOIdzebOVj').toggle()\">+</a></td>\n",
       "        <td title=\"Variable name\">Name</td>\n",
       "        <td title=\"Value of parameter\">Value</td>\n",
       "        <td title=\"Hesse error\">Hesse Error</td>\n",
       "        <td title=\"Minos lower error\">Minos Error-</td>\n",
       "        <td title=\"Minos upper error\">Minos Error+</td>\n",
       "        <td title=\"Lower limit of the parameter\">Limit-</td>\n",
       "        <td title=\"Upper limit of the parameter\">Limit+</td>\n",
       "        <td title=\"Is the parameter fixed in the fit\">Fixed?</td>\n",
       "    </tr>\n",
       "    <tr>\n",
       "        <td>0</td>\n",
       "        <td>a</td>\n",
       "        <td>0.082962</td>\n",
       "        <td>0.00548686</td>\n",
       "        <td>-0.00549638</td>\n",
       "        <td>0.00547696</td>\n",
       "        <td></td>\n",
       "        <td></td>\n",
       "        <td>No</td>\n",
       "    </tr>\n",
       "    <tr>\n",
       "        <td>1</td>\n",
       "        <td>z_lim</td>\n",
       "        <td>0.0839689</td>\n",
       "        <td>0.00553269</td>\n",
       "        <td>-0.00516404</td>\n",
       "        <td>0.010386</td>\n",
       "        <td></td>\n",
       "        <td></td>\n",
       "        <td>No</td>\n",
       "    </tr>\n",
       "</table>\n",
       "<pre id=\"vOIdzebOVj\" style=\"display:none;\">\n",
       "<textarea rows=\"10\" cols=\"50\" onclick=\"this.select()\" readonly>\n",
       "\\begin{tabular}{|c|r|r|r|r|r|r|r|c|}\n",
       "\\hline\n",
       " & Name & Value & Hesse Error & Minos Error- & Minos Error+ & Limit- & Limit+ & Fixed?\\\\\n",
       "\\hline\n",
       "0 & a & 0.082962 & 0.00548686 & -0.00549638 & 0.00547696 &  &  & No\\\\\n",
       "\\hline\n",
       "1 & $z_{lim}$ & 0.0839689 & 0.00553269 & -0.00516404 & 0.010386 &  &  & No\\\\\n",
       "\\hline\n",
       "\\end{tabular}\n",
       "</textarea>\n",
       "</pre>"
      ]
     },
     "metadata": {},
     "output_type": "display_data"
    }
   ],
   "source": [
    "result_minuit_z011_shell_zlim.print_param()"
   ]
  },
  {
   "cell_type": "code",
   "execution_count": 46,
   "metadata": {},
   "outputs": [
    {
     "data": {
      "text/html": [
       "<table>\n",
       "    <tr>\n",
       "        <td><a href=\"#\" onclick=\"$('#dFocPfkgIT').toggle()\">+</a></td>\n",
       "        <td title=\"Variable name\">Name</td>\n",
       "        <td title=\"Value of parameter\">Value</td>\n",
       "        <td title=\"Hesse error\">Hesse Error</td>\n",
       "        <td title=\"Minos lower error\">Minos Error-</td>\n",
       "        <td title=\"Minos upper error\">Minos Error+</td>\n",
       "        <td title=\"Lower limit of the parameter\">Limit-</td>\n",
       "        <td title=\"Upper limit of the parameter\">Limit+</td>\n",
       "        <td title=\"Is the parameter fixed in the fit\">Fixed?</td>\n",
       "    </tr>\n",
       "    <tr>\n",
       "        <td>0</td>\n",
       "        <td>a</td>\n",
       "        <td>0.0845407</td>\n",
       "        <td>0.00538403</td>\n",
       "        <td>-0.00538403</td>\n",
       "        <td>0.00538139</td>\n",
       "        <td></td>\n",
       "        <td></td>\n",
       "        <td>No</td>\n",
       "    </tr>\n",
       "    <tr>\n",
       "        <td>1</td>\n",
       "        <td>z_lim</td>\n",
       "        <td>0.0836103</td>\n",
       "        <td>0.00546769</td>\n",
       "        <td>-0.00498645</td>\n",
       "        <td>0.00916357</td>\n",
       "        <td></td>\n",
       "        <td></td>\n",
       "        <td>No</td>\n",
       "    </tr>\n",
       "</table>\n",
       "<pre id=\"dFocPfkgIT\" style=\"display:none;\">\n",
       "<textarea rows=\"10\" cols=\"50\" onclick=\"this.select()\" readonly>\n",
       "\\begin{tabular}{|c|r|r|r|r|r|r|r|c|}\n",
       "\\hline\n",
       " & Name & Value & Hesse Error & Minos Error- & Minos Error+ & Limit- & Limit+ & Fixed?\\\\\n",
       "\\hline\n",
       "0 & a & 0.0845407 & 0.00538403 & -0.00538403 & 0.00538139 &  &  & No\\\\\n",
       "\\hline\n",
       "1 & $z_{lim}$ & 0.0836103 & 0.00546769 & -0.00498645 & 0.00916357 &  &  & No\\\\\n",
       "\\hline\n",
       "\\end{tabular}\n",
       "</textarea>\n",
       "</pre>"
      ]
     },
     "metadata": {},
     "output_type": "display_data"
    }
   ],
   "source": [
    "result_minuit_z011_nshell_zlim.print_param()"
   ]
  },
  {
   "cell_type": "code",
   "execution_count": 47,
   "metadata": {},
   "outputs": [
    {
     "name": "stdout",
     "output_type": "stream",
     "text": [
      " \n"
     ]
    }
   ],
   "source": [
    "\"\"\"\n",
    "#Plot for the chi² for the region 0<z<0.2\n",
    "plt.figure(figsize=(15,6))\n",
    "ax = plt.subplot(121)\n",
    "\n",
    "x_z1 = np.linspace(min(Sn_0z11_z)-0.002,z_lim_shell, 100)                  #Zone number 1 \n",
    "x_z2 = np.linspace(z_lim_shell, max(Sn_0z11_z)+0.002,100)                  #Zone number 2\n",
    "\n",
    "ax.plot(x_z1, Lineal_Model(x=x_z1 ,a=a_z011_shell, b=0.0), label=r'$m=%.4f \\pm %.4f$' %(a_z011_shell, a_z011E_shell) )\n",
    "ax.plot(x_z2, a_z011_shell*z_lim_shell**4/x_z2**3)\n",
    "ax.text(0.025, 0.012, r'$\\overline{\\delta}=%.4f \\pm %.4f$' %(-a_z011_shell*3/f, 3*a_z011E_shell/f) )\n",
    "\n",
    "ax.errorbar(Sn_0z11_z, Sn_0z11_v/C, fmt='ro', ecolor='black',yerr=Sn_0z11_vE/C)\n",
    "ax.vlines(z_lim_shell,-0.01 ,0.02, color='red', label=r'$z_{h}=%.4f$'%z_lim_shell)\n",
    "ax.set_xlabel(r'$\\bar z$')\n",
    "ax.set_ylabel(r'$\\bar v_{r}/c$', rotation=0)\n",
    "#ax.set_title(r'$0<z<0.11$ (shells)' )\n",
    "#ax.set_title(r'$%.3f<z<%.3f, n_{shell}=%.i$'%(min(Sn_0z02_z),max(Sn_0z02_z),n_sev_shell[0]) )\n",
    "ax.set_xlim(min(Sn_0z11_z)-0.002,max(Sn_0z11_z)+0.002)\n",
    "ax.set_ylim(-0.01, 0.02)\n",
    "plt.grid()\n",
    "plt.legend()\n",
    "\n",
    "#ploting the GW data\n",
    "for i in range(len(Sn_0z11_names)):\n",
    "    GWpc = list()\n",
    "    for j in GW_name:\n",
    "        if j in  Sn_0z11_names[i]:\n",
    "            GWpc.append([Sn_0z11_z[i]+0.001, Sn_0z11_v[i]/C-0.0015, j])\n",
    "            plt.scatter(Sn_0z11_z[i], Sn_0z11_v[i]/C, s=130, marker='X', c='yellow', alpha=1.0)\n",
    "    \n",
    "    #if there're several GW in one shell\n",
    "    if len(GWpc)==1:\n",
    "        plt.text(GWpc[0][0], GWpc[0][1], r'%s'%GWpc[0][2])   \n",
    "        \n",
    "    #if there're only one GW in the shell\n",
    "    if len(GWpc)>1:\n",
    "        for k in range(len(GWpc)):\n",
    "            plt.text(GWpc[k][0], GWpc[k][1]-k/1000, r'%s'%GWpc[k][2])\n",
    "    \n",
    "#Contour plot\n",
    "ax = plt.subplot(122)\n",
    "result_minuit_z011_shell.draw_contour('a', 'd', bound=3, show_sigma=True);\n",
    "#result_minuit_z011_shell.draw_mncontour('a', 'd', nsigma=2)\n",
    "plt.xlabel('m')\n",
    "plt.ylabel('d', rotation=0)\n",
    "#plt.title('Shell')\n",
    "plt.suptitle('Shells')\n",
    "plt.ticklabel_format(axis='y', style='sci', scilimits=(0,0))\n",
    "#plt.savefig('/home/brayan/Documentos/Universidad/Proyecto_de_grado/Proyecto_grado_Notebooks/Figures_paper/Contour_plot.png')\n",
    "plt.savefig('/home/brayan/Documentos/Universidad/Proyecto_de_grado/Proyecto_grado_Notebooks/Figures_paper_c/fit_0z02_2regions.png')\n",
    "#plt.xlim(0.070, 0.1)\n",
    "\"\"\"\n",
    "print(' ')"
   ]
  },
  {
   "cell_type": "code",
   "execution_count": 48,
   "metadata": {},
   "outputs": [
    {
     "name": "stdout",
     "output_type": "stream",
     "text": [
      " \n"
     ]
    }
   ],
   "source": [
    "\"\"\"\n",
    "#Plot for the chi² for the region 0<z<0.2\n",
    "plt.figure(figsize=(15,6))\n",
    "ax = plt.subplot(121)\n",
    "\n",
    "x_z1 = np.linspace(min(Sn_0z11_z_full)-0.002,z_lim_nshell, 100)                  #Zone number 1 \n",
    "x_z2 = np.linspace(z_lim_nshell, max(Sn_0z11_z_full)+0.002,100)                  #Zone number 2\n",
    "\n",
    "ax.plot(x_z1, Lineal_Model(x=x_z1 ,a=a_z011_nshell, b=0.0), label=r'$m=%.4f \\pm %.4f$' %(a_z011_nshell, a_z011E_nshell) )\n",
    "ax.plot(x_z2, a_z011_nshell*z_lim_nshell**4/x_z2**3)\n",
    "\n",
    "\n",
    "ax.errorbar(Sn_0z11_z_full, Sn_0z11_v_full/C, fmt='ro', ecolor='black',yerr=Sn_0z11_vE_full/C)\n",
    "ax.vlines(z_lim_nshell,-0.01 ,0.02, color='red', label=r'$z_{h}=%.4f$'%z_lim_nshell)\n",
    "ax.set_xlabel(r'$z$')\n",
    "ax.set_ylabel(r'$v_{r}/c$', rotation=0)\n",
    "ax.text(0.022, 0.017, r'$\\overline{\\delta}=%.4f \\pm %.4f$' %(-a_z011_nshell*3/f, 3*a_z011E_nshell/f) )\n",
    "#ax.set_title(r'$0<z<0.11$ (no shells)' )\n",
    "#ax.set_title(r'$%.3f<z<%.3f, n_{shell}=%.i$'%(min(Sn_0z02_z),max(Sn_0z02_z),n_sev_shell[0]) )\n",
    "ax.set_xlim(min(Sn_0z11_z_full)-0.002,max(Sn_0z11_z_full)+0.002)\n",
    "ax.set_ylim(-0.01, 0.02)\n",
    "plt.grid()\n",
    "plt.legend()\n",
    "\n",
    "#ploting the GW data\n",
    "for i in range(len(Sn_0z11_names_full)):\n",
    "    #print(Sn_0z11_names_full[i])\n",
    "    for j in range(len(GW_name)):\n",
    "        if GW_name[j] in Sn_0z11_names_full:\n",
    "            plt.scatter(GW_z[j], GW_v[j]/C, s=130, marker='X', c='yellow', alpha=1.0)\n",
    "            plt.text(GW_z[j]+0.003, GW_v[j]/C, r'%s'%GW_name[j])\n",
    "            \n",
    "#Contour plot\n",
    "ax = plt.subplot(122)\n",
    "result_minuit_z011_nshell.draw_contour('a', 'd', bound=3, show_sigma=True);\n",
    "#result_minuit_z011_nshell.draw_mncontour('a', 'd', nsigma=1);\n",
    "plt.xlabel('m')\n",
    "plt.ylabel('d', rotation=0)\n",
    "plt.ticklabel_format(axis='y', style='sci', scilimits=(0,0))\n",
    "#plt.title('No shells')\n",
    "plt.suptitle('No shells')\n",
    "plt.savefig('/home/brayan/Documentos/Universidad/Proyecto_de_grado/Proyecto_grado_Notebooks/Figures_paper_c/fit_0z02_2regions_full.png')\n",
    "\n",
    "#plt.xlim(0.070, 0.1)\n",
    "\"\"\"\n",
    "print(' ')"
   ]
  },
  {
   "cell_type": "code",
   "execution_count": 49,
   "metadata": {
    "scrolled": false
   },
   "outputs": [],
   "source": [
    "#plt.figure()\n",
    "#result_minuit_z011_shell_zlim.draw_mnprofile('a', bound=2, subtract_min=True);"
   ]
  },
  {
   "cell_type": "code",
   "execution_count": 50,
   "metadata": {},
   "outputs": [],
   "source": [
    "#plt.figure()\n",
    "#result_minuit_z011_shell_zlim.draw_mnprofile('z_lim', bound=2, subtract_min=True);"
   ]
  },
  {
   "cell_type": "code",
   "execution_count": 51,
   "metadata": {},
   "outputs": [
    {
     "data": {
      "image/png": "[encoded data removed]",
      "text/plain": [
       "<Figure size 1080x432 with 3 Axes>"
      ]
     },
     "metadata": {
      "needs_background": "light"
     },
     "output_type": "display_data"
    }
   ],
   "source": [
    "plt.figure(figsize=(15,6))\n",
    "ax = plt.subplot(121)\n",
    "\n",
    "x_z1 = np.linspace(min(Sn_0z11_z)-0.002,zlim_z011_shell, 100)                  #Zone number 1 \n",
    "x_z2 = np.linspace(zlim_z011_shell, max(Sn_0z11_z)+0.002,100)                  #Zone number 2\n",
    "\n",
    "ax.plot(x_z1, Lineal_Model(x=x_z1 ,a=a_z011_shell_zlim, b=0.0), label=r'$m=%.4f \\pm %.4f$' %(a_z011_shell_zlim, a_z011E_shell_zlim) )\n",
    "ax.plot(x_z2, a_z011_shell_zlim*zlim_z011_shell**4/x_z2**3)\n",
    "\n",
    "ax.errorbar(Sn_0z11_z, Sn_0z11_v/C, fmt='ro', ecolor='black',yerr=Sn_0z11_vE/C)\n",
    "ax.vlines(zlim_z011_shell,-0.01 ,0.02, color='red', label=r'$z_{h}=%.4f \\pm %.4f$'%(zlim_z011_shell, zlim_z011E_shell))\n",
    "ax.set_xlabel(r'$\\bar z$')\n",
    "ax.set_ylabel(r'$\\bar v_{r}/c$', rotation=0)\n",
    "ax.text(0.025, 0.012, r'$\\overline{\\delta}=%.4f \\pm %.4f$' %(-a_z011_shell_zlim*3/f, 3*a_z011E_shell_zlim/f) )\n",
    "#ax.set_title(r'$0<z<0.11$ (shells)' )\n",
    "#ax.set_title(r'$%.3f<z<%.3f, n_{shell}=%.i$'%(min(Sn_0z02_z),max(Sn_0z02_z),n_sev_shell[0]) )\n",
    "ax.set_xlim(min(Sn_0z11_z)-0.002,max(Sn_0z11_z)+0.002)\n",
    "ax.set_ylim(-0.01, 0.02)\n",
    "plt.grid()\n",
    "plt.legend()\n",
    "\n",
    "#ploting the GW data\n",
    "for i in range(len(Sn_0z11_names)):\n",
    "    GWpc = list()\n",
    "    for j in GW_name:\n",
    "        if j in  Sn_0z11_names[i]:\n",
    "            GWpc.append([Sn_0z11_z[i]+0.001, Sn_0z11_v[i]/C-0.0015, j])\n",
    "            plt.scatter(Sn_0z11_z[i], Sn_0z11_v[i]/C, s=130, marker='X', c='yellow', alpha=1.0)\n",
    "    \n",
    "    if len(GWpc)>1:\n",
    "        for k in range(len(GWpc)):\n",
    "            plt.text(GWpc[k][0], GWpc[k][1]-k/1000, r'%s'%GWpc[k][2])\n",
    "    if len(GWpc)==1:\n",
    "        plt.text(GWpc[0][0], GWpc[0][1], r'%s'%GWpc[0][2])     \n",
    "\n",
    "#Contour plot\n",
    "ax = plt.subplot(122)\n",
    "result_minuit_z011_shell_zlim.draw_contour('a', 'z_lim', bound=4, show_sigma=True);\n",
    "x_labels = list(ax.get_xticks())\n",
    "plt.xlabel(r'm')\n",
    "#result_minuit_z011_shell_zlim.draw_mncontour('a', 'z_lim', nsigma=2, numpoints=100);\n",
    "plt.ylabel(r'$z_{h}$', rotation=0)\n",
    "\n",
    "ax2 = ax.twiny()\n",
    "new_tick_locations = [0.065, 0.070, 0.075, 0.080, 0.085, 0.090, 0.095, 0.1]\n",
    "ax2.set_xlim(ax.get_xlim())\n",
    "ax2.set_xticks(new_tick_locations)\n",
    "def delta_(m):\n",
    "    return [round(-3*i/f, 3) for i in m]\n",
    "ax2.set_xticklabels( delta_( np.array(new_tick_locations) ) )\n",
    "ax2.set_xlabel(r'$\\bar \\delta=-3m/cf$')\n",
    "\n",
    "#plt.title('Shell')\n",
    "plt.suptitle('Shells')\n",
    "#plt.savefig('/home/brayan/Documentos/Universidad/Proyecto_de_grado/Proyecto_grado_Notebooks/Figures_paper/Contour_plot.png')\n",
    "plt.savefig('/home/brayan/Documentos/Universidad/Proyecto_de_grado/Proyecto_grado_Notebooks/Figures_paper_c/fit_0z02_2regions_zlim.png')\n",
    "#plt.xlim(0.070, 0.1)"
   ]
  },
  {
   "cell_type": "code",
   "execution_count": 52,
   "metadata": {},
   "outputs": [
    {
     "data": {
      "image/png": "[encoded data removed]",
      "text/plain": [
       "<Figure size 1080x432 with 3 Axes>"
      ]
     },
     "metadata": {
      "needs_background": "light"
     },
     "output_type": "display_data"
    }
   ],
   "source": [
    "plt.figure(figsize=(15,6))\n",
    "ax = plt.subplot(121)\n",
    "\n",
    "x_z1 = np.linspace(min(Sn_0z11_z_full)-0.002, zlim_z011_nshell, 100)                 #Zone number 1 \n",
    "x_z2 = np.linspace(zlim_z011_nshell, max(Sn_0z11_z_full)+0.002,100)                  #Zone number 2\n",
    "\n",
    "ax.plot(x_z1, Lineal_Model(x=x_z1 ,a=a_z011_nshell_zlim, b=0.0), label=r'$m=%.4f \\pm %.4f$' %(a_z011_nshell_zlim, a_z011E_nshell_zlim) )\n",
    "ax.plot(x_z2, a_z011_nshell_zlim*zlim_z011_nshell**4/x_z2**3)\n",
    "\n",
    "\n",
    "ax.errorbar(Sn_0z11_z_full, Sn_0z11_v_full/C, fmt='ro', ecolor='black',yerr=Sn_0z11_vE_full/C)\n",
    "ax.vlines(zlim_z011_nshell,-0.01 ,0.02, color='red', label=r'$z_{h}=%.4f \\pm %.4f$'%(zlim_z011_nshell, zlim_z011E_nshell))\n",
    "ax.set_xlabel(r'$z$')\n",
    "ax.set_ylabel(r'$v_{r}/c$', rotation=0)\n",
    "ax.text(0.025, 0.017, r'$\\overline{\\delta}=%.4f \\pm %.4f$' %(-a_z011_nshell_zlim*3/f, 3*a_z011E_nshell_zlim/f) )\n",
    "#ax.set_title(r'$0<z<0.11$ (no shells)' )\n",
    "#ax.set_title(r'$%.3f<z<%.3f, n_{shell}=%.i$'%(min(Sn_0z02_z),max(Sn_0z02_z),n_sev_shell[0]) )\n",
    "ax.set_xlim(min(Sn_0z11_z_full)-0.002,max(Sn_0z11_z_full)+0.002)\n",
    "ax.set_ylim(-0.01, 0.02)\n",
    "plt.grid()\n",
    "plt.legend()\n",
    "\n",
    "#ploting the GW data\n",
    "for i in range(len(Sn_0z11_names_full)):\n",
    "    #print(Sn_0z11_names_full[i])\n",
    "    for j in range(len(GW_name)):\n",
    "        if GW_name[j] in Sn_0z11_names_full:\n",
    "            plt.scatter(GW_z[j], GW_v[j]/C, s=130, marker='X', c='yellow', alpha=1.0)\n",
    "            plt.text(GW_z[j]+0.001, GW_v[j]/C, r'$%s$'%GW_name[j])\n",
    "            #dummy = 1\n",
    "\n",
    "#Contour plot\n",
    "ax = plt.subplot(122)\n",
    "result_minuit_z011_nshell_zlim.draw_contour('a', 'z_lim', bound=4, show_sigma=True);\n",
    "plt.xlabel(r'm')\n",
    "plt.ylabel(r'$z_{h}$', rotation=0)\n",
    "#plt.xlim(min(x_labels), x_labels[-1]-x_labels[-1]/40)\n",
    "#plt.title('No Shell')\n",
    "plt.suptitle('No shells')\n",
    "\n",
    "ax2 = ax.twiny()\n",
    "new_tick_locations = [0.070, 0.080, 0.090, 0.1]\n",
    "ax2.set_xlim(ax.get_xlim())\n",
    "ax2.set_xticks(new_tick_locations)\n",
    "def delta_(m):\n",
    "    return [round(-3*i/f, 3) for i in m]\n",
    "ax2.set_xticklabels( delta_( np.array(new_tick_locations) ) )\n",
    "ax2.set_xlabel(r'$\\bar \\delta=-3m/cf$')\n",
    "\n",
    "#plt.savefig('/home/brayan/Documentos/Universidad/Proyecto_de_grado/Proyecto_grado_Notebooks/Figures_paper/Contour_plot.png')\n",
    "plt.savefig('/home/brayan/Documentos/Universidad/Proyecto_de_grado/Proyecto_grado_Notebooks/Figures_paper_c/fit_0z02_2regions_full_zlim.png')"
   ]
  },
  {
   "cell_type": "code",
   "execution_count": 53,
   "metadata": {},
   "outputs": [],
   "source": [
    "#Fit for GW's"
   ]
  },
  {
   "cell_type": "code",
   "execution_count": 54,
   "metadata": {},
   "outputs": [],
   "source": [
    "def chi2_GW(a, z_lim):\n",
    "    Idx_zona1 = z_lim>GW_z\n",
    "    Idx_zona2 = z_lim<GW_z\n",
    "    \n",
    "    model1 = a*GW_z[Idx_zona1] \n",
    "    chi2_zona1 = np.sum(  (GW_v[Idx_zona1]/C - model1)**2/(GW_vE[Idx_zona1]/C)**2 )\n",
    "        \n",
    "    #The second region is where the density contrast averaged begins to drop like 1/r³   \n",
    "    model2 = a*z_lim**4/(GW_z[Idx_zona2])**3\n",
    "    chi2_zona2 = np.sum( (GW_v[Idx_zona2]/C - model2)**2/(GW_vE[Idx_zona2]/C)**2 )\n",
    "     \n",
    "    return chi2_zona1 + chi2_zona2"
   ]
  },
  {
   "cell_type": "code",
   "execution_count": 55,
   "metadata": {},
   "outputs": [],
   "source": [
    "result_minuit_GW = Minuit(chi2_GW, a = 0.02, error_a = 0.001, \n",
    "                               z_lim = 0.05, error_z_lim = 0.001,\n",
    "                               errordef = 1.0 )"
   ]
  },
  {
   "cell_type": "code",
   "execution_count": 56,
   "metadata": {},
   "outputs": [
    {
     "data": {
      "text/html": [
       "<hr>"
      ]
     },
     "metadata": {},
     "output_type": "display_data"
    },
    {
     "data": {
      "text/html": [
       "<table>\n",
       "    <tr>\n",
       "        <td title=\"Minimum value of function\">FCN = 0.042706285582752954</td>\n",
       "        <td title=\"Total number of call to FCN so far\">TOTAL NCALL = 50</td>\n",
       "        <td title=\"Number of call in last migrad\">NCALLS = 50</td>\n",
       "    </tr>\n",
       "    <tr>\n",
       "        <td title=\"Estimated distance to minimum\">EDM = 7.870517848862587e-05</td>\n",
       "        <td title=\"Maximum EDM definition of convergence\">GOAL EDM = 1e-05</td>\n",
       "        <td title=\"Error def. Amount of increase in FCN to be defined as 1 standard deviation\">\n",
       "        UP = 1.0</td>\n",
       "    </tr>\n",
       "</table>\n",
       "<table>\n",
       "    <tr>\n",
       "        <td align=\"center\" title=\"Validity of the migrad call\">Valid</td>\n",
       "        <td align=\"center\" title=\"Validity of parameters\">Valid Param</td>\n",
       "        <td align=\"center\" title=\"Is Covariance matrix accurate?\">Accurate Covar</td>\n",
       "        <td align=\"center\" title=\"Positive definiteness of covariance matrix\">PosDef</td>\n",
       "        <td align=\"center\" title=\"Was covariance matrix made posdef by adding diagonal element\">Made PosDef</td>\n",
       "    </tr>\n",
       "    <tr>\n",
       "        <td align=\"center\" style=\"background-color:#92CCA6\">True</td>\n",
       "        <td align=\"center\" style=\"background-color:#92CCA6\">True</td>\n",
       "        <td align=\"center\" style=\"background-color:#92CCA6\">True</td>\n",
       "        <td align=\"center\" style=\"background-color:#92CCA6\">True</td>\n",
       "        <td align=\"center\" style=\"background-color:#92CCA6\">False</td>\n",
       "    </tr>\n",
       "    <tr>\n",
       "        <td align=\"center\" title=\"Was last hesse call fail?\">Hesse Fail</td>\n",
       "        <td align=\"center\" title=\"Validity of covariance\">HasCov</td>\n",
       "        <td align=\"center\" title=\"Is EDM above goal EDM?\">Above EDM</td>\n",
       "        <td align=\"center\"></td>\n",
       "        <td align=\"center\" title=\"Did last migrad call reach max call limit?\">Reach calllim</td>\n",
       "    </tr>\n",
       "    <tr>\n",
       "        <td align=\"center\" style=\"background-color:#92CCA6\">False</td>\n",
       "        <td align=\"center\" style=\"background-color:#92CCA6\">True</td>\n",
       "        <td align=\"center\" style=\"background-color:#92CCA6\">False</td>\n",
       "        <td align=\"center\"></td>\n",
       "        <td align=\"center\" style=\"background-color:#92CCA6\">False</td>\n",
       "    </tr>\n",
       "</table>"
      ]
     },
     "metadata": {},
     "output_type": "display_data"
    },
    {
     "data": {
      "text/html": [
       "<table>\n",
       "    <tr>\n",
       "        <td><a href=\"#\" onclick=\"$('#LsYgsjFrci').toggle()\">+</a></td>\n",
       "        <td title=\"Variable name\">Name</td>\n",
       "        <td title=\"Value of parameter\">Value</td>\n",
       "        <td title=\"Hesse error\">Hesse Error</td>\n",
       "        <td title=\"Minos lower error\">Minos Error-</td>\n",
       "        <td title=\"Minos upper error\">Minos Error+</td>\n",
       "        <td title=\"Lower limit of the parameter\">Limit-</td>\n",
       "        <td title=\"Upper limit of the parameter\">Limit+</td>\n",
       "        <td title=\"Is the parameter fixed in the fit\">Fixed?</td>\n",
       "    </tr>\n",
       "    <tr>\n",
       "        <td>0</td>\n",
       "        <td>a</td>\n",
       "        <td>0.107865</td>\n",
       "        <td>0.245146</td>\n",
       "        <td></td>\n",
       "        <td></td>\n",
       "        <td></td>\n",
       "        <td></td>\n",
       "        <td>No</td>\n",
       "    </tr>\n",
       "    <tr>\n",
       "        <td>1</td>\n",
       "        <td>z_lim</td>\n",
       "        <td>0.0277484</td>\n",
       "        <td>0.585802</td>\n",
       "        <td></td>\n",
       "        <td></td>\n",
       "        <td></td>\n",
       "        <td></td>\n",
       "        <td>No</td>\n",
       "    </tr>\n",
       "</table>\n",
       "<pre id=\"LsYgsjFrci\" style=\"display:none;\">\n",
       "<textarea rows=\"10\" cols=\"50\" onclick=\"this.select()\" readonly>\n",
       "\\begin{tabular}{|c|r|r|r|r|r|r|r|c|}\n",
       "\\hline\n",
       " & Name & Value & Hesse Error & Minos Error- & Minos Error+ & Limit- & Limit+ & Fixed?\\\\\n",
       "\\hline\n",
       "0 & a & 0.107865 & 0.245146 &  &  &  &  & No\\\\\n",
       "\\hline\n",
       "1 & $z_{lim}$ & 0.0277484 & 0.585802 &  &  &  &  & No\\\\\n",
       "\\hline\n",
       "\\end{tabular}\n",
       "</textarea>\n",
       "</pre>"
      ]
     },
     "metadata": {},
     "output_type": "display_data"
    },
    {
     "data": {
      "text/html": [
       "<hr>"
      ]
     },
     "metadata": {},
     "output_type": "display_data"
    },
    {
     "data": {
      "text/plain": [
       "True"
      ]
     },
     "execution_count": 56,
     "metadata": {},
     "output_type": "execute_result"
    }
   ],
   "source": [
    "result_minuit_GW.migrad(ncall=10000000);\n",
    "result_minuit_GW.migrad_ok()"
   ]
  },
  {
   "cell_type": "code",
   "execution_count": 57,
   "metadata": {},
   "outputs": [
    {
     "data": {
      "text/html": [
       "<span>Minos status for a: <span style=\"background-color:#FF7878\">PROBLEM</span></span>\n",
       "<table>\n",
       "    <tr>\n",
       "        <td title=\"lower and upper minos error of the parameter\">Error</td>\n",
       "        <td>-0.24408000960406</td>\n",
       "        <td>0.24514604610799604</td>\n",
       "    </tr>\n",
       "    <tr>\n",
       "        <td title=\"Validity of minos error\">Valid</td>\n",
       "        <td style=\"background-color:#92CCA6\">True</td>\n",
       "        <td style=\"background-color:#FF7878\">False</td>\n",
       "    </tr>\n",
       "    <tr>\n",
       "        <td title=\"Did minos error search hit limit of any parameter?\">At Limit</td>\n",
       "        <td style=\"background-color:#92CCA6\">False</td>\n",
       "        <td style=\"background-color:#92CCA6\">False</td>\n",
       "    </tr>\n",
       "    <tr>\n",
       "        <td title=\"I don't really know what this one means... Post it in issue if you know\">Max FCN</td>\n",
       "        <td style=\"background-color:#92CCA6\">False</td>\n",
       "        <td style=\"background-color:#92CCA6\">False</td>\n",
       "    </tr>\n",
       "    <tr>\n",
       "        <td title=\"New minimum found when doing minos scan.\">New Min</td>\n",
       "        <td style=\"background-color:#92CCA6\">False</td>\n",
       "        <td style=\"background-color:#92CCA6\">False</td>\n",
       "    </tr>\n",
       "</table>"
      ]
     },
     "metadata": {},
     "output_type": "display_data"
    },
    {
     "data": {
      "text/html": [
       "<span>Minos status for z_lim: <span style=\"background-color:#FF7878\">PROBLEM</span></span>\n",
       "<table>\n",
       "    <tr>\n",
       "        <td title=\"lower and upper minos error of the parameter\">Error</td>\n",
       "        <td>-0.5858023399690996</td>\n",
       "        <td>0.5858023399690996</td>\n",
       "    </tr>\n",
       "    <tr>\n",
       "        <td title=\"Validity of minos error\">Valid</td>\n",
       "        <td style=\"background-color:#FF7878\">False</td>\n",
       "        <td style=\"background-color:#FF7878\">False</td>\n",
       "    </tr>\n",
       "    <tr>\n",
       "        <td title=\"Did minos error search hit limit of any parameter?\">At Limit</td>\n",
       "        <td style=\"background-color:#92CCA6\">False</td>\n",
       "        <td style=\"background-color:#92CCA6\">False</td>\n",
       "    </tr>\n",
       "    <tr>\n",
       "        <td title=\"I don't really know what this one means... Post it in issue if you know\">Max FCN</td>\n",
       "        <td style=\"background-color:#92CCA6\">False</td>\n",
       "        <td style=\"background-color:#92CCA6\">False</td>\n",
       "    </tr>\n",
       "    <tr>\n",
       "        <td title=\"New minimum found when doing minos scan.\">New Min</td>\n",
       "        <td style=\"background-color:#92CCA6\">False</td>\n",
       "        <td style=\"background-color:#92CCA6\">False</td>\n",
       "    </tr>\n",
       "</table>"
      ]
     },
     "metadata": {},
     "output_type": "display_data"
    }
   ],
   "source": [
    "result_minuit_GW.minos();"
   ]
  },
  {
   "cell_type": "code",
   "execution_count": 58,
   "metadata": {},
   "outputs": [
    {
     "name": "stdout",
     "output_type": "stream",
     "text": [
      "a_GW = 0.10786 +/- 0.24515\n",
      "zlim_GW = 0.02775 +/- 0.58580\n"
     ]
    }
   ],
   "source": [
    "a_GW = result_minuit_GW.values[0]\n",
    "aE_GW =result_minuit_GW.errors[0]\n",
    "\n",
    "zlim_GW = result_minuit_GW.values[1]\n",
    "zlimE_GW =result_minuit_GW.errors[1]\n",
    "\n",
    "print(r'a_GW = %.5f +/- %.5f'%(a_GW, aE_GW) )\n",
    "print(r'zlim_GW = %.5f +/- %.5f'%(zlim_GW, zlimE_GW))"
   ]
  },
  {
   "cell_type": "code",
   "execution_count": 59,
   "metadata": {},
   "outputs": [
    {
     "data": {
      "text/html": [
       "<table>\n",
       "    <tr>\n",
       "        <td><a href=\"#\" onclick=\"$('#VOyLQrUdFd').toggle()\">+</a></td>\n",
       "        <td title=\"Variable name\">Name</td>\n",
       "        <td title=\"Value of parameter\">Value</td>\n",
       "        <td title=\"Hesse error\">Hesse Error</td>\n",
       "        <td title=\"Minos lower error\">Minos Error-</td>\n",
       "        <td title=\"Minos upper error\">Minos Error+</td>\n",
       "        <td title=\"Lower limit of the parameter\">Limit-</td>\n",
       "        <td title=\"Upper limit of the parameter\">Limit+</td>\n",
       "        <td title=\"Is the parameter fixed in the fit\">Fixed?</td>\n",
       "    </tr>\n",
       "    <tr>\n",
       "        <td>0</td>\n",
       "        <td>a</td>\n",
       "        <td>0.107865</td>\n",
       "        <td>0.245146</td>\n",
       "        <td>-0.24408</td>\n",
       "        <td>0.245146</td>\n",
       "        <td></td>\n",
       "        <td></td>\n",
       "        <td>No</td>\n",
       "    </tr>\n",
       "    <tr>\n",
       "        <td>1</td>\n",
       "        <td>z_lim</td>\n",
       "        <td>0.0277484</td>\n",
       "        <td>0.585802</td>\n",
       "        <td>-0.585802</td>\n",
       "        <td>0.585802</td>\n",
       "        <td></td>\n",
       "        <td></td>\n",
       "        <td>No</td>\n",
       "    </tr>\n",
       "</table>\n",
       "<pre id=\"VOyLQrUdFd\" style=\"display:none;\">\n",
       "<textarea rows=\"10\" cols=\"50\" onclick=\"this.select()\" readonly>\n",
       "\\begin{tabular}{|c|r|r|r|r|r|r|r|c|}\n",
       "\\hline\n",
       " & Name & Value & Hesse Error & Minos Error- & Minos Error+ & Limit- & Limit+ & Fixed?\\\\\n",
       "\\hline\n",
       "0 & a & 0.107865 & 0.245146 & -0.24408 & 0.245146 &  &  & No\\\\\n",
       "\\hline\n",
       "1 & $z_{lim}$ & 0.0277484 & 0.585802 & -0.585802 & 0.585802 &  &  & No\\\\\n",
       "\\hline\n",
       "\\end{tabular}\n",
       "</textarea>\n",
       "</pre>"
      ]
     },
     "metadata": {},
     "output_type": "display_data"
    }
   ],
   "source": [
    "result_minuit_GW.print_param()"
   ]
  },
  {
   "cell_type": "code",
   "execution_count": 60,
   "metadata": {},
   "outputs": [
    {
     "data": {
      "image/png": "[encoded data removed]",
      "text/plain": [
       "<Figure size 504x360 with 1 Axes>"
      ]
     },
     "metadata": {
      "needs_background": "light"
     },
     "output_type": "display_data"
    }
   ],
   "source": [
    "plt.figure(figsize=(7,5))\n",
    "ax = plt.subplot(111)\n",
    "\n",
    "x_z1 = np.linspace(min(GW_z)-0.002, zlim_GW, 100)                 #Zone number 1 \n",
    "x_z2 = np.linspace(zlim_GW, max(GW_z)+0.002,100)                  #Zone number 2\n",
    "\n",
    "ax.plot(x_z1, Lineal_Model(x=x_z1 ,a=a_GW, b=0.0), label=r'$m=%.4f \\pm %.4f$' %(a_GW, aE_GW) )\n",
    "ax.plot(x_z2, a_GW*zlim_GW**4/x_z2**3)\n",
    "\n",
    "ax.errorbar(GW_z, GW_v/C, fmt='ro', ecolor='black')\n",
    "ax.vlines(zlim_GW,-0.01 ,0.02, color='red', label=r'$z^{GW}_{h}=%.4f \\pm %.4f$'%(zlim_GW, zlimE_GW))\n",
    "ax.set_xlabel(r'$z$')\n",
    "ax.set_ylabel(r'$v_{r}/c$', rotation=0)\n",
    "#ax.text(0.025, 0.017, r'$\\overline{\\delta}=%.4f \\pm %.4f$' %(-a_z011_nshell_zlim*3/f, 3*a_z011E_nshell_zlim/f) )\n",
    "#ax.set_title(r'$0<z<0.11$ (no shells)' )\n",
    "#ax.set_title(r'$%.3f<z<%.3f, n_{shell}=%.i$'%(min(Sn_0z02_z),max(Sn_0z02_z),n_sev_shell[0]) )\n",
    "#ax.set_xlim(min(Sn_0z11_z_full)-0.002,max(Sn_0z11_z_full)+0.002)\n",
    "#ax.set_ylim(-0.01, 0.02)\n",
    "plt.grid()\n",
    "plt.legend()\n",
    "\n",
    "plt.savefig('/home/brayan/Documentos/Universidad/Proyecto_de_grado/Proyecto_grado_Notebooks/Figures_paper_c/fit_GW.png')"
   ]
  },
  {
   "cell_type": "code",
   "execution_count": 61,
   "metadata": {},
   "outputs": [],
   "source": [
    "#cite Union 2.1 as \"N. Suzuki et al., Astrophys.J. 746, 85 (2012), arXiv:1105.3470.\""
   ]
  }
 ],
 "metadata": {
  "kernelspec": {
   "display_name": "Python 3",
   "language": "python",
   "name": "python3"
  },
  "language_info": {
   "codemirror_mode": {
    "name": "ipython",
    "version": 3
   },
   "file_extension": ".py",
   "mimetype": "text/x-python",
   "name": "python",
   "nbconvert_exporter": "python",
   "pygments_lexer": "ipython3",
   "version": "3.6.5"
  }
 },
 "nbformat": 4,
 "nbformat_minor": 2
}
